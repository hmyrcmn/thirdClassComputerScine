{
  "nbformat": 4,
  "nbformat_minor": 0,
  "metadata": {
    "colab": {
      "provenance": []
    },
    "kernelspec": {
      "name": "python3",
      "display_name": "Python 3"
    },
    "language_info": {
      "name": "python"
    }
  },
  "cells": [
    {
      "cell_type": "code",
      "execution_count": 20,
      "metadata": {
        "colab": {
          "base_uri": "https://localhost:8080/"
        },
        "id": "J7L3_JU67wv7",
        "outputId": "afb01ba0-ee45-4e80-8199-b0600c17f6be"
      },
      "outputs": [
        {
          "output_type": "stream",
          "name": "stdout",
          "text": [
            "Looking in indexes: https://pypi.org/simple, https://us-python.pkg.dev/colab-wheels/public/simple/\n",
            "Requirement already satisfied: biopython in /usr/local/lib/python3.10/dist-packages (1.81)\n",
            "Requirement already satisfied: numpy in /usr/local/lib/python3.10/dist-packages (from biopython) (1.22.4)\n"
          ]
        }
      ],
      "source": [
        "!pip install biopython\n"
      ]
    },
    {
      "cell_type": "code",
      "source": [
        "!wget https://www.drive5.com/muscle/downloads3.8.31/muscle3.8.31_i86linux64.tar.gz\n"
      ],
      "metadata": {
        "colab": {
          "base_uri": "https://localhost:8080/"
        },
        "id": "Q1mD4i4b8-GI",
        "outputId": "974b77c0-58d5-42f9-ff58-4291cd1a35be"
      },
      "execution_count": 21,
      "outputs": [
        {
          "output_type": "stream",
          "name": "stdout",
          "text": [
            "--2023-05-11 09:04:20--  https://www.drive5.com/muscle/downloads3.8.31/muscle3.8.31_i86linux64.tar.gz\n",
            "Resolving www.drive5.com (www.drive5.com)... 199.195.116.69\n",
            "Connecting to www.drive5.com (www.drive5.com)|199.195.116.69|:443... connected.\n",
            "HTTP request sent, awaiting response... 200 OK\n",
            "Length: 487906 (476K) [application/x-gzip]\n",
            "Saving to: ‘muscle3.8.31_i86linux64.tar.gz.1’\n",
            "\n",
            "muscle3.8.31_i86lin 100%[===================>] 476.47K  1.67MB/s    in 0.3s    \n",
            "\n",
            "2023-05-11 09:04:21 (1.67 MB/s) - ‘muscle3.8.31_i86linux64.tar.gz.1’ saved [487906/487906]\n",
            "\n"
          ]
        }
      ]
    },
    {
      "cell_type": "code",
      "source": [
        "!ls"
      ],
      "metadata": {
        "colab": {
          "base_uri": "https://localhost:8080/"
        },
        "id": "M8uKVZOR8vRj",
        "outputId": "f478cf3a-c581-4de1-d452-ae4fbe90ee9e"
      },
      "execution_count": 22,
      "outputs": [
        {
          "output_type": "stream",
          "name": "stdout",
          "text": [
            "muscle3.8.31_i86linux64\t\tmuscle3.8.31_i86linux64.tar.gz.1\n",
            "muscle3.8.31_i86linux64.tar.gz\tsample_data\n"
          ]
        }
      ]
    },
    {
      "cell_type": "code",
      "source": [
        "!pwd\n"
      ],
      "metadata": {
        "colab": {
          "base_uri": "https://localhost:8080/"
        },
        "id": "1TUN-j7vB7Im",
        "outputId": "1c6f0055-b786-438f-ce63-b89513d32e5c"
      },
      "execution_count": 23,
      "outputs": [
        {
          "output_type": "stream",
          "name": "stdout",
          "text": [
            "/content\n"
          ]
        }
      ]
    },
    {
      "cell_type": "code",
      "source": [
        "!tar -xvzf muscle3.8.31_i86linux64.tar.gz\n"
      ],
      "metadata": {
        "colab": {
          "base_uri": "https://localhost:8080/"
        },
        "id": "3niWmQYx8g72",
        "outputId": "4b62375b-a8dd-43fc-aaf4-ceaf00f7b09d"
      },
      "execution_count": 24,
      "outputs": [
        {
          "output_type": "stream",
          "name": "stdout",
          "text": [
            "muscle3.8.31_i86linux64\n"
          ]
        }
      ]
    },
    {
      "cell_type": "code",
      "source": [
        "!/content/muscle3.8.31_i86linux64 -in seqs.fa -out seqs.afa\n"
      ],
      "metadata": {
        "colab": {
          "base_uri": "https://localhost:8080/"
        },
        "id": "yokG3LyuCacw",
        "outputId": "427d1c36-8d3f-4dfc-f9c1-1b0d703daadc"
      },
      "execution_count": 25,
      "outputs": [
        {
          "output_type": "stream",
          "name": "stdout",
          "text": [
            "\n",
            "MUSCLE v3.8.31 by Robert C. Edgar\n",
            "\n",
            "http://www.drive5.com/muscle\n",
            "This software is donated to the public domain.\n",
            "Please cite: Edgar, R.C. Nucleic Acids Res 32(5), 1792-97.\n",
            "\n",
            "\n",
            "*** ERROR ***  Cannot open 'seqs.fa' errno=2\n",
            "\n"
          ]
        }
      ]
    },
    {
      "cell_type": "code",
      "source": [
        "!./muscle3.8.31_i86linux64"
      ],
      "metadata": {
        "colab": {
          "base_uri": "https://localhost:8080/"
        },
        "id": "I2dYV-ffAXTn",
        "outputId": "516fbf16-d686-4d47-99bc-eabfa10cfc9c"
      },
      "execution_count": 26,
      "outputs": [
        {
          "output_type": "stream",
          "name": "stdout",
          "text": [
            "\n",
            "MUSCLE v3.8.31 by Robert C. Edgar\n",
            "\n",
            "http://www.drive5.com/muscle\n",
            "This software is donated to the public domain.\n",
            "Please cite: Edgar, R.C. Nucleic Acids Res 32(5), 1792-97.\n",
            "\n",
            "\n",
            "Basic usage\n",
            "\n",
            "    muscle -in <inputfile> -out <outputfile>\n",
            "\n",
            "Common options (for a complete list please see the User Guide):\n",
            "\n",
            "    -in <inputfile>    Input file in FASTA format (default stdin)\n",
            "    -out <outputfile>  Output alignment in FASTA format (default stdout)\n",
            "    -diags             Find diagonals (faster for similar sequences)\n",
            "    -maxiters <n>      Maximum number of iterations (integer, default 16)\n",
            "    -maxhours <h>      Maximum time to iterate in hours (default no limit)\n",
            "    -html              Write output in HTML format (default FASTA)\n",
            "    -msf               Write output in GCG MSF format (default FASTA)\n",
            "    -clw               Write output in CLUSTALW format (default FASTA)\n",
            "    -clwstrict         As -clw, with 'CLUSTAL W (1.81)' header\n",
            "    -log[a] <logfile>  Log to file (append if -loga, overwrite if -log)\n",
            "    -quiet             Do not write progress messages to stderr\n",
            "    -version           Display version information and exit\n",
            "\n",
            "Without refinement (very fast, avg accuracy similar to T-Coffee): -maxiters 2\n",
            "Fastest possible (amino acids): -maxiters 1 -diags -sv -distance1 kbit20_3\n",
            "Fastest possible (nucleotides): -maxiters 1 -diags\n"
          ]
        }
      ]
    },
    {
      "cell_type": "code",
      "source": [
        "!./muscle3.8.31_i86linux64 -in seqs.fa -out seqs.afa\n",
        "\n"
      ],
      "metadata": {
        "colab": {
          "base_uri": "https://localhost:8080/"
        },
        "id": "j34NBpZSDurH",
        "outputId": "e0975d54-a3b0-46e4-b8cf-f58c500bbcb9"
      },
      "execution_count": 30,
      "outputs": [
        {
          "output_type": "stream",
          "name": "stdout",
          "text": [
            "\n",
            "MUSCLE v3.8.31 by Robert C. Edgar\n",
            "\n",
            "http://www.drive5.com/muscle\n",
            "This software is donated to the public domain.\n",
            "Please cite: Edgar, R.C. Nucleic Acids Res 32(5), 1792-97.\n",
            "\n",
            "seqs 515 seqs, max length 2829, avg  length 2829\n",
            "00:00:03     20 MB(5%)  Iter   1  100.00%  K-mer dist pass 1\n",
            "00:00:03     20 MB(5%)  Iter   1  100.00%  K-mer dist pass 2\n",
            "00:01:27  884 MB(100%)  Iter   1  100.00%  Align node\n",
            "00:01:27  886 MB(100%)  Iter   1  100.00%  Root alignment\n",
            "00:02:24  887 MB(100%)  Iter   2  100.00%  Refine tree\n",
            "00:02:24  887 MB(100%)  Iter   2  100.00%  Root alignment\n",
            "00:02:24  887 MB(100%)  Iter   2  100.00%  Root alignment\n",
            "00:06:30  887 MB(100%)  Iter   3  100.00%  Refine biparts\n"
          ]
        }
      ]
    },
    {
      "cell_type": "code",
      "source": [
        "!./muscle3.8.31_i86linux64 -in seqs.fa -out seqs.afa -maxiters 2"
      ],
      "metadata": {
        "colab": {
          "base_uri": "https://localhost:8080/"
        },
        "id": "yp88rc3nDzks",
        "outputId": "4e3269c2-a1bf-4a25-c55f-852891b56605"
      },
      "execution_count": 32,
      "outputs": [
        {
          "output_type": "stream",
          "name": "stdout",
          "text": [
            "\n",
            "MUSCLE v3.8.31 by Robert C. Edgar\n",
            "\n",
            "http://www.drive5.com/muscle\n",
            "This software is donated to the public domain.\n",
            "Please cite: Edgar, R.C. Nucleic Acids Res 32(5), 1792-97.\n",
            "\n",
            "seqs 515 seqs, max length 2829, avg  length 2829\n",
            "00:00:05     20 MB(5%)  Iter   1  100.00%  K-mer dist pass 1\n",
            "00:00:05     20 MB(5%)  Iter   1  100.00%  K-mer dist pass 2\n",
            "00:01:28  884 MB(100%)  Iter   1  100.00%  Align node\n",
            "00:01:28  886 MB(100%)  Iter   1  100.00%  Root alignment\n",
            "00:02:25  887 MB(100%)  Iter   2  100.00%  Refine tree\n",
            "00:02:25  887 MB(100%)  Iter   2  100.00%  Root alignment\n",
            "00:02:25  887 MB(100%)  Iter   2  100.00%  Root alignment\n"
          ]
        }
      ]
    },
    {
      "cell_type": "code",
      "source": [
        "!./muscle3.8.31_i86linux64 -in seqs.fa -out seqs.afa -maxiters 1 -diags -sv -distance1 kbit20_3"
      ],
      "metadata": {
        "colab": {
          "base_uri": "https://localhost:8080/"
        },
        "id": "fpBbVcCtI4GE",
        "outputId": "84c37a7b-96d1-42f5-c32b-84fbea207705"
      },
      "execution_count": 33,
      "outputs": [
        {
          "output_type": "stream",
          "name": "stdout",
          "text": [
            "\n",
            "MUSCLE v3.8.31 by Robert C. Edgar\n",
            "\n",
            "http://www.drive5.com/muscle\n",
            "This software is donated to the public domain.\n",
            "Please cite: Edgar, R.C. Nucleic Acids Res 32(5), 1792-97.\n",
            "\n",
            "seqs 515 seqs, max length 2829, avg  length 2829\n",
            "00:00:00     13 MB(3%)  Iter   1  100.00%  K-bit distance matrix\n",
            "00:01:24  884 MB(100%)  Iter   1  100.00%  Align node\n",
            "00:01:24  885 MB(100%)  Iter   1  100.00%  Root alignment\n"
          ]
        }
      ]
    },
    {
      "cell_type": "code",
      "source": [
        "!./muscle3.8.31_i86linux64 -in seqs.fa -out seqs.afa -maxiters 1 -diags"
      ],
      "metadata": {
        "colab": {
          "base_uri": "https://localhost:8080/"
        },
        "id": "0Nslzj-qJJDJ",
        "outputId": "040d318a-b3ab-48e7-cd03-2607c65f940e"
      },
      "execution_count": 34,
      "outputs": [
        {
          "output_type": "stream",
          "name": "stdout",
          "text": [
            "\n",
            "MUSCLE v3.8.31 by Robert C. Edgar\n",
            "\n",
            "http://www.drive5.com/muscle\n",
            "This software is donated to the public domain.\n",
            "Please cite: Edgar, R.C. Nucleic Acids Res 32(5), 1792-97.\n",
            "\n",
            "seqs 515 seqs, max length 2829, avg  length 2829\n",
            "00:00:05     20 MB(5%)  Iter   1  100.00%  K-mer dist pass 1\n",
            "00:00:05     20 MB(5%)  Iter   1  100.00%  K-mer dist pass 2\n",
            "00:01:28  884 MB(100%)  Iter   1  100.00%  Align node\n",
            "00:01:28  886 MB(100%)  Iter   1  100.00%  Root alignment\n"
          ]
        }
      ]
    },
    {
      "cell_type": "code",
      "source": [
        "!./muscle3.8.31_i86linux64 -in seqs.fa -out seqs.afa -maxiters 1 -diags1 -sv"
      ],
      "metadata": {
        "colab": {
          "base_uri": "https://localhost:8080/"
        },
        "id": "P7klw2kZJ-yr",
        "outputId": "d030610c-6ca1-40eb-cce0-8ad5cd242fa5"
      },
      "execution_count": 35,
      "outputs": [
        {
          "output_type": "stream",
          "name": "stdout",
          "text": [
            "\n",
            "MUSCLE v3.8.31 by Robert C. Edgar\n",
            "\n",
            "http://www.drive5.com/muscle\n",
            "This software is donated to the public domain.\n",
            "Please cite: Edgar, R.C. Nucleic Acids Res 32(5), 1792-97.\n",
            "\n",
            "seqs 515 seqs, max length 2829, avg  length 2829\n",
            "00:00:05     20 MB(5%)  Iter   1  100.00%  K-mer dist pass 1\n",
            "00:00:05     20 MB(5%)  Iter   1  100.00%  K-mer dist pass 2\n",
            "00:01:29  884 MB(100%)  Iter   1  100.00%  Align node\n",
            "00:01:29  886 MB(100%)  Iter   1  100.00%  Root alignment\n"
          ]
        }
      ]
    },
    {
      "cell_type": "markdown",
      "source": [
        "2.7 Pipelining"
      ],
      "metadata": {
        "id": "2427dO4xKRdJ"
      }
    },
    {
      "cell_type": "code",
      "source": [
        "!./muscle3.8.31_i86linux64 < seqs.fa > seqs.afa"
      ],
      "metadata": {
        "colab": {
          "base_uri": "https://localhost:8080/"
        },
        "id": "zYWGecJpKE0g",
        "outputId": "6be5b68f-feb1-4b45-dcda-f8235567bd08"
      },
      "execution_count": 36,
      "outputs": [
        {
          "output_type": "stream",
          "name": "stdout",
          "text": [
            "\n",
            "MUSCLE v3.8.31 by Robert C. Edgar\n",
            "\n",
            "http://www.drive5.com/muscle\n",
            "This software is donated to the public domain.\n",
            "Please cite: Edgar, R.C. Nucleic Acids Res 32(5), 1792-97.\n",
            "\n",
            "- 515 seqs, max length 2829, avg  length 2829\n",
            "00:00:04     20 MB(5%)  Iter   1  100.00%  K-mer dist pass 1\n",
            "00:00:04     20 MB(5%)  Iter   1  100.00%  K-mer dist pass 2\n",
            "00:01:26  884 MB(100%)  Iter   1  100.00%  Align node\n",
            "00:01:26  886 MB(100%)  Iter   1  100.00%  Root alignment\n",
            "00:02:23  887 MB(100%)  Iter   2  100.00%  Refine tree\n",
            "00:02:23  887 MB(100%)  Iter   2  100.00%  Root alignment\n",
            "00:02:23  887 MB(100%)  Iter   2  100.00%  Root alignment\n",
            "00:06:27  887 MB(100%)  Iter   3  100.00%  Refine biparts\n"
          ]
        }
      ]
    },
    {
      "cell_type": "markdown",
      "source": [
        "2.8 Refining an existing alignment"
      ],
      "metadata": {
        "id": "od0m277hKNvk"
      }
    },
    {
      "cell_type": "code",
      "source": [
        "!./muscle3.8.31_i86linux64 -in seqs.afa -out refined.afa -refine"
      ],
      "metadata": {
        "colab": {
          "base_uri": "https://localhost:8080/"
        },
        "id": "xw4BIPNuKJdw",
        "outputId": "4e39f2c2-1c94-4e5b-d55a-b6223ebbae08"
      },
      "execution_count": 37,
      "outputs": [
        {
          "output_type": "stream",
          "name": "stdout",
          "text": [
            "\n",
            "MUSCLE v3.8.31 by Robert C. Edgar\n",
            "\n",
            "http://www.drive5.com/muscle\n",
            "This software is donated to the public domain.\n",
            "Please cite: Edgar, R.C. Nucleic Acids Res 32(5), 1792-97.\n",
            "\n",
            "00:04:20     34 MB(8%)  Iter   1  100.00%  Refine biparts\n"
          ]
        }
      ]
    },
    {
      "cell_type": "markdown",
      "source": [
        "2.9 Using a pre-computed guide tree"
      ],
      "metadata": {
        "id": "iF9hl2YdKXjK"
      }
    },
    {
      "cell_type": "code",
      "source": [
        "!./muscle3.8.31_i86linux64 -in seqs.fa -out seqs.afa -usetree mytree.phy"
      ],
      "metadata": {
        "colab": {
          "base_uri": "https://localhost:8080/"
        },
        "id": "aMUSLoYFKX6Q",
        "outputId": "819d0ac5-7200-471d-d0e6-ce3b7802bb9c"
      },
      "execution_count": 57,
      "outputs": [
        {
          "output_type": "stream",
          "name": "stdout",
          "text": [
            "\n",
            "MUSCLE v3.8.31 by Robert C. Edgar\n",
            "\n",
            "http://www.drive5.com/muscle\n",
            "This software is donated to the public domain.\n",
            "Please cite: Edgar, R.C. Nucleic Acids Res 32(5), 1792-97.\n",
            "\n",
            "seqs 515 seqs, max length 2829, avg  length 2829\n",
            "\n",
            "******** WARNING ****************\n",
            "\n",
            "You specified the -usetree option.\n",
            "Note that a good evolutionary tree may NOT be a good\n",
            "guide tree for multiple alignment. For more details,\n",
            "please refer to the user guide. To disable this\n",
            "warning, use -usetree_nowarn <treefilename>.\n",
            "\n",
            "\n",
            "*** ERROR ***  User tree must be rooted\n"
          ]
        }
      ]
    },
    {
      "cell_type": "markdown",
      "source": [
        "WARNİNG"
      ],
      "metadata": {
        "id": "N1UzqxcNKpV1"
      }
    },
    {
      "cell_type": "code",
      "source": [
        "!./muscle3.8.31_i86linux64 -in seqs.fa -out seqs.afa -usetree_nowarn /content/mytree.phy"
      ],
      "metadata": {
        "colab": {
          "base_uri": "https://localhost:8080/"
        },
        "id": "it3F_CO8KkJ0",
        "outputId": "f8d9afb7-1d4c-4826-fecb-7c0db64da8d1"
      },
      "execution_count": 56,
      "outputs": [
        {
          "output_type": "stream",
          "name": "stdout",
          "text": [
            "\n",
            "MUSCLE v3.8.31 by Robert C. Edgar\n",
            "\n",
            "http://www.drive5.com/muscle\n",
            "This software is donated to the public domain.\n",
            "Please cite: Edgar, R.C. Nucleic Acids Res 32(5), 1792-97.\n",
            "\n",
            "seqs 515 seqs, max length 2829, avg  length 2829\n",
            "\n",
            "*** ERROR ***  User tree must be rooted\n"
          ]
        }
      ]
    },
    {
      "cell_type": "markdown",
      "source": [
        "2.10 Profile-profile alignment;"
      ],
      "metadata": {
        "id": "-lAYgpbuKst1"
      }
    },
    {
      "cell_type": "code",
      "source": [
        "!./muscle3.8.31_i86linux64 -profile -in1 one.afa -in2 two.afa -out both.afa"
      ],
      "metadata": {
        "id": "fQduROd_Kt3R"
      },
      "execution_count": null,
      "outputs": []
    },
    {
      "cell_type": "markdown",
      "source": [
        "2.11 Adding sequences to an existing alignment"
      ],
      "metadata": {
        "id": "Za5PrR_jK1fa"
      }
    },
    {
      "cell_type": "code",
      "source": [
        "!./muscle3.8.31_i86linux64 -profile -in1 existing_aln.afa -in2 new_seq.fa -out combined.afa"
      ],
      "metadata": {
        "id": "kxZsoac3K1-Z"
      },
      "execution_count": null,
      "outputs": []
    },
    {
      "cell_type": "code",
      "source": [
        "!./muscle3.8.31_i86linux64 -in new_seqs.fa -out new_seqs.afa\n",
        "\n",
        "!./muscle3.8.31_i86linux64 -profile -in1 existing_aln.afa -in2 new_seqs.fa -out combined.afas"
      ],
      "metadata": {
        "id": "UpsMYIQhLDaT"
      },
      "execution_count": null,
      "outputs": []
    },
    {
      "cell_type": "markdown",
      "source": [
        "2.12 Sequence clustering"
      ],
      "metadata": {
        "id": "Nal1rZvqLK12"
      }
    },
    {
      "cell_type": "code",
      "source": [
        "!./muscle3.8.31_i86linux64 -cluster -in seqs.fa -tree1 tree.phy -maxiters 1"
      ],
      "metadata": {
        "id": "WzIQnJFULLW4"
      },
      "execution_count": null,
      "outputs": []
    },
    {
      "cell_type": "markdown",
      "source": [
        "2.13 Specifying a substitution matrix"
      ],
      "metadata": {
        "id": "_HsxR37ZMXl4"
      }
    },
    {
      "cell_type": "code",
      "source": [
        "!./muscle3.8.31_i86linux64 -in seqs.fa -out seqs.afa -matrix blosum62 -gapopen -12.0\n",
        "\n",
        "    -gapextend -1.0 -center 0.0"
      ],
      "metadata": {
        "id": "ZKZSoAbMMWjf"
      },
      "execution_count": null,
      "outputs": []
    },
    {
      "cell_type": "markdown",
      "source": [
        "2.14 Refining a long alignment"
      ],
      "metadata": {
        "id": "cuIZWDUgMjEe"
      }
    },
    {
      "cell_type": "code",
      "source": [
        "!./muscle3.8.31_i86linux64 -in input.afa -out output.afa"
      ],
      "metadata": {
        "id": "0LSHuQQFMjj0"
      },
      "execution_count": null,
      "outputs": []
    }
  ]
}