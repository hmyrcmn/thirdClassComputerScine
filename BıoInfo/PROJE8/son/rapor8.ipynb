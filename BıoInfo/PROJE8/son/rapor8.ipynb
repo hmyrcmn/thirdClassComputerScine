{
  "cells": [
    {
      "cell_type": "code",
      "execution_count": 1,
      "metadata": {
        "colab": {
          "base_uri": "https://localhost:8080/"
        },
        "id": "J7L3_JU67wv7",
        "outputId": "c02a2e0d-3b27-4111-fd9c-9357c1bb08ab"
      },
      "outputs": [
        {
          "output_type": "stream",
          "name": "stdout",
          "text": [
            "Looking in indexes: https://pypi.org/simple, https://us-python.pkg.dev/colab-wheels/public/simple/\n",
            "Collecting biopython\n",
            "  Downloading biopython-1.81-cp310-cp310-manylinux_2_17_x86_64.manylinux2014_x86_64.whl (3.1 MB)\n",
            "\u001b[2K     \u001b[90m━━━━━━━━━━━━━━━━━━━━━━━━━━━━━━━━━━━━━━━━\u001b[0m \u001b[32m3.1/3.1 MB\u001b[0m \u001b[31m16.3 MB/s\u001b[0m eta \u001b[36m0:00:00\u001b[0m\n",
            "\u001b[?25hRequirement already satisfied: numpy in /usr/local/lib/python3.10/dist-packages (from biopython) (1.22.4)\n",
            "Installing collected packages: biopython\n",
            "Successfully installed biopython-1.81\n"
          ]
        }
      ],
      "source": [
        "!pip install biopython\n"
      ]
    },
    {
      "cell_type": "code",
      "execution_count": 2,
      "metadata": {
        "colab": {
          "base_uri": "https://localhost:8080/"
        },
        "id": "Q1mD4i4b8-GI",
        "outputId": "b6c9e57f-67f5-443f-9e61-4798f23870fb"
      },
      "outputs": [
        {
          "output_type": "stream",
          "name": "stdout",
          "text": [
            "--2023-05-13 18:48:26--  https://www.drive5.com/muscle/downloads3.8.31/muscle3.8.31_i86linux64.tar.gz\n",
            "Resolving www.drive5.com (www.drive5.com)... 199.195.116.69\n",
            "Connecting to www.drive5.com (www.drive5.com)|199.195.116.69|:443... connected.\n",
            "HTTP request sent, awaiting response... 200 OK\n",
            "Length: 487906 (476K) [application/x-gzip]\n",
            "Saving to: ‘muscle3.8.31_i86linux64.tar.gz’\n",
            "\n",
            "muscle3.8.31_i86lin 100%[===================>] 476.47K  2.90MB/s    in 0.2s    \n",
            "\n",
            "2023-05-13 18:48:27 (2.90 MB/s) - ‘muscle3.8.31_i86linux64.tar.gz’ saved [487906/487906]\n",
            "\n"
          ]
        }
      ],
      "source": [
        "!wget https://www.drive5.com/muscle/downloads3.8.31/muscle3.8.31_i86linux64.tar.gz\n"
      ]
    },
    {
      "cell_type": "code",
      "execution_count": 3,
      "metadata": {
        "colab": {
          "base_uri": "https://localhost:8080/"
        },
        "id": "M8uKVZOR8vRj",
        "outputId": "480e4ce6-06e2-4771-9705-9fbc349a14d6"
      },
      "outputs": [
        {
          "output_type": "stream",
          "name": "stdout",
          "text": [
            "muscle3.8.31_i86linux64.tar.gz\tsample_data\n"
          ]
        }
      ],
      "source": [
        "!ls"
      ]
    },
    {
      "cell_type": "code",
      "execution_count": 4,
      "metadata": {
        "colab": {
          "base_uri": "https://localhost:8080/"
        },
        "id": "3niWmQYx8g72",
        "outputId": "61fce37e-ec36-4754-fe11-894ab44ae72a"
      },
      "outputs": [
        {
          "output_type": "stream",
          "name": "stdout",
          "text": [
            "muscle3.8.31_i86linux64\n"
          ]
        }
      ],
      "source": [
        "!tar -xvzf muscle3.8.31_i86linux64.tar.gz\n"
      ]
    },
    {
      "cell_type": "code",
      "execution_count": 7,
      "metadata": {
        "colab": {
          "base_uri": "https://localhost:8080/"
        },
        "id": "yokG3LyuCacw",
        "outputId": "928148b3-26ea-4d34-d034-2c1050875b2c"
      },
      "outputs": [
        {
          "output_type": "stream",
          "name": "stdout",
          "text": [
            "\n",
            "MUSCLE v3.8.31 by Robert C. Edgar\n",
            "\n",
            "http://www.drive5.com/muscle\n",
            "This software is donated to the public domain.\n",
            "Please cite: Edgar, R.C. Nucleic Acids Res 32(5), 1792-97.\n",
            "\n",
            "seqs 515 seqs, max length 2829, avg  length 2829\n",
            "00:00:03     20 MB(5%)  Iter   1  100.00%  K-mer dist pass 1\n",
            "00:00:03     20 MB(5%)  Iter   1  100.00%  K-mer dist pass 2\n",
            "00:01:25  884 MB(100%)  Iter   1  100.00%  Align node\n",
            "00:01:26  886 MB(100%)  Iter   1  100.00%  Root alignment\n",
            "00:02:24  887 MB(100%)  Iter   2  100.00%  Refine tree\n",
            "00:02:24  887 MB(100%)  Iter   2  100.00%  Root alignment\n",
            "00:02:24  887 MB(100%)  Iter   2  100.00%  Root alignment\n",
            "00:06:35  887 MB(100%)  Iter   3  100.00%  Refine biparts\n"
          ]
        }
      ],
      "source": [
        "!/content/muscle3.8.31_i86linux64 -in seqs.fa -out seqs.afa\n"
      ]
    },
    {
      "cell_type": "code",
      "execution_count": 8,
      "metadata": {
        "colab": {
          "base_uri": "https://localhost:8080/"
        },
        "id": "I2dYV-ffAXTn",
        "outputId": "9b451f5f-df01-4c19-d59b-a1c637c06ed8"
      },
      "outputs": [
        {
          "output_type": "stream",
          "name": "stdout",
          "text": [
            "\n",
            "MUSCLE v3.8.31 by Robert C. Edgar\n",
            "\n",
            "http://www.drive5.com/muscle\n",
            "This software is donated to the public domain.\n",
            "Please cite: Edgar, R.C. Nucleic Acids Res 32(5), 1792-97.\n",
            "\n",
            "\n",
            "Basic usage\n",
            "\n",
            "    muscle -in <inputfile> -out <outputfile>\n",
            "\n",
            "Common options (for a complete list please see the User Guide):\n",
            "\n",
            "    -in <inputfile>    Input file in FASTA format (default stdin)\n",
            "    -out <outputfile>  Output alignment in FASTA format (default stdout)\n",
            "    -diags             Find diagonals (faster for similar sequences)\n",
            "    -maxiters <n>      Maximum number of iterations (integer, default 16)\n",
            "    -maxhours <h>      Maximum time to iterate in hours (default no limit)\n",
            "    -html              Write output in HTML format (default FASTA)\n",
            "    -msf               Write output in GCG MSF format (default FASTA)\n",
            "    -clw               Write output in CLUSTALW format (default FASTA)\n",
            "    -clwstrict         As -clw, with 'CLUSTAL W (1.81)' header\n",
            "    -log[a] <logfile>  Log to file (append if -loga, overwrite if -log)\n",
            "    -quiet             Do not write progress messages to stderr\n",
            "    -version           Display version information and exit\n",
            "\n",
            "Without refinement (very fast, avg accuracy similar to T-Coffee): -maxiters 2\n",
            "Fastest possible (amino acids): -maxiters 1 -diags -sv -distance1 kbit20_3\n",
            "Fastest possible (nucleotides): -maxiters 1 -diags\n"
          ]
        }
      ],
      "source": [
        "!./muscle3.8.31_i86linux64"
      ]
    },
    {
      "cell_type": "code",
      "execution_count": 9,
      "metadata": {
        "colab": {
          "base_uri": "https://localhost:8080/"
        },
        "id": "j34NBpZSDurH",
        "outputId": "158f7704-c7f5-47e0-83a3-f43dd27f6b5c"
      },
      "outputs": [
        {
          "output_type": "stream",
          "name": "stdout",
          "text": [
            "\n",
            "MUSCLE v3.8.31 by Robert C. Edgar\n",
            "\n",
            "http://www.drive5.com/muscle\n",
            "This software is donated to the public domain.\n",
            "Please cite: Edgar, R.C. Nucleic Acids Res 32(5), 1792-97.\n",
            "\n",
            "seqs 515 seqs, max length 2829, avg  length 2829\n",
            "00:00:04     20 MB(5%)  Iter   1  100.00%  K-mer dist pass 1\n",
            "00:00:04     20 MB(5%)  Iter   1  100.00%  K-mer dist pass 2\n",
            "00:01:28  884 MB(100%)  Iter   1  100.00%  Align node\n",
            "00:01:28  886 MB(100%)  Iter   1  100.00%  Root alignment\n",
            "00:02:27  887 MB(100%)  Iter   2  100.00%  Refine tree\n",
            "00:02:27  887 MB(100%)  Iter   2  100.00%  Root alignment\n",
            "00:02:27  887 MB(100%)  Iter   2  100.00%  Root alignment\n",
            "00:06:39  887 MB(100%)  Iter   3  100.00%  Refine biparts\n"
          ]
        }
      ],
      "source": [
        "!./muscle3.8.31_i86linux64 -in seqs.fa -out seqs.afa\n",
        "\n"
      ]
    },
    {
      "cell_type": "code",
      "execution_count": 10,
      "metadata": {
        "colab": {
          "base_uri": "https://localhost:8080/"
        },
        "id": "yp88rc3nDzks",
        "outputId": "153183aa-0f70-4d50-a5d6-f5db8bc27c8d"
      },
      "outputs": [
        {
          "output_type": "stream",
          "name": "stdout",
          "text": [
            "\n",
            "MUSCLE v3.8.31 by Robert C. Edgar\n",
            "\n",
            "http://www.drive5.com/muscle\n",
            "This software is donated to the public domain.\n",
            "Please cite: Edgar, R.C. Nucleic Acids Res 32(5), 1792-97.\n",
            "\n",
            "seqs 515 seqs, max length 2829, avg  length 2829\n",
            "00:00:03     20 MB(5%)  Iter   1  100.00%  K-mer dist pass 1\n",
            "00:00:03     20 MB(5%)  Iter   1  100.00%  K-mer dist pass 2\n",
            "00:01:26  884 MB(100%)  Iter   1  100.00%  Align node\n",
            "00:01:26  886 MB(100%)  Iter   1  100.00%  Root alignment\n",
            "00:02:24  887 MB(100%)  Iter   2  100.00%  Refine tree\n",
            "00:02:24  887 MB(100%)  Iter   2  100.00%  Root alignment\n",
            "00:02:24  887 MB(100%)  Iter   2  100.00%  Root alignment\n"
          ]
        }
      ],
      "source": [
        "!./muscle3.8.31_i86linux64 -in seqs.fa -out seqs.afa -maxiters 2"
      ]
    },
    {
      "cell_type": "code",
      "execution_count": 11,
      "metadata": {
        "colab": {
          "base_uri": "https://localhost:8080/"
        },
        "id": "fpBbVcCtI4GE",
        "outputId": "e0e061fc-71d1-4216-db30-54d54cdb37d1"
      },
      "outputs": [
        {
          "output_type": "stream",
          "name": "stdout",
          "text": [
            "\n",
            "MUSCLE v3.8.31 by Robert C. Edgar\n",
            "\n",
            "http://www.drive5.com/muscle\n",
            "This software is donated to the public domain.\n",
            "Please cite: Edgar, R.C. Nucleic Acids Res 32(5), 1792-97.\n",
            "\n",
            "seqs 515 seqs, max length 2829, avg  length 2829\n",
            "00:00:00     13 MB(3%)  Iter   1  100.00%  K-bit distance matrix\n",
            "00:01:27  884 MB(100%)  Iter   1  100.00%  Align node\n",
            "00:01:27  885 MB(100%)  Iter   1  100.00%  Root alignment\n"
          ]
        }
      ],
      "source": [
        "!./muscle3.8.31_i86linux64 -in seqs.fa -out seqs.afa -maxiters 1 -diags -sv -distance1 kbit20_3"
      ]
    },
    {
      "cell_type": "code",
      "execution_count": 12,
      "metadata": {
        "colab": {
          "base_uri": "https://localhost:8080/"
        },
        "id": "0Nslzj-qJJDJ",
        "outputId": "562e49fe-ed09-4c76-8a83-33bcfbe208e8"
      },
      "outputs": [
        {
          "output_type": "stream",
          "name": "stdout",
          "text": [
            "\n",
            "MUSCLE v3.8.31 by Robert C. Edgar\n",
            "\n",
            "http://www.drive5.com/muscle\n",
            "This software is donated to the public domain.\n",
            "Please cite: Edgar, R.C. Nucleic Acids Res 32(5), 1792-97.\n",
            "\n",
            "seqs 515 seqs, max length 2829, avg  length 2829\n",
            "00:00:04     20 MB(5%)  Iter   1  100.00%  K-mer dist pass 1\n",
            "00:00:04     20 MB(5%)  Iter   1  100.00%  K-mer dist pass 2\n",
            "00:01:27  884 MB(100%)  Iter   1  100.00%  Align node\n",
            "00:01:27  886 MB(100%)  Iter   1  100.00%  Root alignment\n"
          ]
        }
      ],
      "source": [
        "!./muscle3.8.31_i86linux64 -in seqs.fa -out seqs.afa -maxiters 1 -diags"
      ]
    },
    {
      "cell_type": "code",
      "execution_count": 13,
      "metadata": {
        "colab": {
          "base_uri": "https://localhost:8080/"
        },
        "id": "P7klw2kZJ-yr",
        "outputId": "7f5ab423-cf94-414c-a039-3275ef1a380e"
      },
      "outputs": [
        {
          "output_type": "stream",
          "name": "stdout",
          "text": [
            "\n",
            "MUSCLE v3.8.31 by Robert C. Edgar\n",
            "\n",
            "http://www.drive5.com/muscle\n",
            "This software is donated to the public domain.\n",
            "Please cite: Edgar, R.C. Nucleic Acids Res 32(5), 1792-97.\n",
            "\n",
            "seqs 515 seqs, max length 2829, avg  length 2829\n",
            "00:00:04     20 MB(5%)  Iter   1  100.00%  K-mer dist pass 1\n",
            "00:00:04     20 MB(5%)  Iter   1  100.00%  K-mer dist pass 2\n",
            "00:01:27  884 MB(100%)  Iter   1  100.00%  Align node\n",
            "00:01:27  886 MB(100%)  Iter   1  100.00%  Root alignment\n"
          ]
        }
      ],
      "source": [
        "!./muscle3.8.31_i86linux64 -in seqs.fa -out seqs.afa -maxiters 1 -diags1 -sv"
      ]
    },
    {
      "cell_type": "markdown",
      "metadata": {
        "id": "2427dO4xKRdJ"
      },
      "source": [
        "2.7 Pipelining"
      ]
    },
    {
      "cell_type": "code",
      "execution_count": 14,
      "metadata": {
        "colab": {
          "base_uri": "https://localhost:8080/"
        },
        "id": "zYWGecJpKE0g",
        "outputId": "153af1b7-5d45-44bc-de9c-d12ed11f7b19"
      },
      "outputs": [
        {
          "output_type": "stream",
          "name": "stdout",
          "text": [
            "\n",
            "MUSCLE v3.8.31 by Robert C. Edgar\n",
            "\n",
            "http://www.drive5.com/muscle\n",
            "This software is donated to the public domain.\n",
            "Please cite: Edgar, R.C. Nucleic Acids Res 32(5), 1792-97.\n",
            "\n",
            "- 515 seqs, max length 2829, avg  length 2829\n",
            "00:00:04     20 MB(5%)  Iter   1  100.00%  K-mer dist pass 1\n",
            "00:00:04     20 MB(5%)  Iter   1  100.00%  K-mer dist pass 2\n",
            "00:01:27  884 MB(100%)  Iter   1  100.00%  Align node\n",
            "00:01:27  886 MB(100%)  Iter   1  100.00%  Root alignment\n",
            "00:02:25  887 MB(100%)  Iter   2  100.00%  Refine tree\n",
            "00:02:25  887 MB(100%)  Iter   2  100.00%  Root alignment\n",
            "00:02:25  887 MB(100%)  Iter   2  100.00%  Root alignment\n",
            "00:06:38  887 MB(100%)  Iter   3  100.00%  Refine biparts\n"
          ]
        }
      ],
      "source": [
        "!./muscle3.8.31_i86linux64 < seqs.fa > seqs.afa"
      ]
    },
    {
      "cell_type": "markdown",
      "metadata": {
        "id": "od0m277hKNvk"
      },
      "source": [
        "2.8 Refining an existing alignment"
      ]
    },
    {
      "cell_type": "code",
      "execution_count": 15,
      "metadata": {
        "colab": {
          "base_uri": "https://localhost:8080/"
        },
        "id": "xw4BIPNuKJdw",
        "outputId": "1ecfb96b-8746-43e7-919e-77036acafd75"
      },
      "outputs": [
        {
          "output_type": "stream",
          "name": "stdout",
          "text": [
            "\n",
            "MUSCLE v3.8.31 by Robert C. Edgar\n",
            "\n",
            "http://www.drive5.com/muscle\n",
            "This software is donated to the public domain.\n",
            "Please cite: Edgar, R.C. Nucleic Acids Res 32(5), 1792-97.\n",
            "\n",
            "00:04:20     34 MB(8%)  Iter   1  100.00%  Refine biparts\n"
          ]
        }
      ],
      "source": [
        "!./muscle3.8.31_i86linux64 -in seqs.afa -out refined.afa -refine"
      ]
    },
    {
      "cell_type": "markdown",
      "metadata": {
        "id": "iF9hl2YdKXjK"
      },
      "source": [
        "2.9 Using a pre-computed guide tree"
      ]
    },
    {
      "cell_type": "code",
      "execution_count": 18,
      "metadata": {
        "colab": {
          "base_uri": "https://localhost:8080/"
        },
        "id": "aMUSLoYFKX6Q",
        "outputId": "3ae09b54-ef5d-4564-f3fa-276d3aa34c2c"
      },
      "outputs": [
        {
          "output_type": "stream",
          "name": "stdout",
          "text": [
            "\n",
            "MUSCLE v3.8.31 by Robert C. Edgar\n",
            "\n",
            "http://www.drive5.com/muscle\n",
            "This software is donated to the public domain.\n",
            "Please cite: Edgar, R.C. Nucleic Acids Res 32(5), 1792-97.\n",
            "\n",
            "seqs 515 seqs, max length 2829, avg  length 2829\n",
            "\n",
            "******** WARNING ****************\n",
            "\n",
            "You specified the -usetree option.\n",
            "Note that a good evolutionary tree may NOT be a good\n",
            "guide tree for multiple alignment. For more details,\n",
            "please refer to the user guide. To disable this\n",
            "warning, use -usetree_nowarn <treefilename>.\n",
            "\n",
            "\n",
            "*** ERROR ***  User tree must be rooted\n"
          ]
        }
      ],
      "source": [
        "!./muscle3.8.31_i86linux64 -in seqs.fa -out seqs.afa -usetree mytree.phy"
      ]
    },
    {
      "cell_type": "markdown",
      "metadata": {
        "id": "N1UzqxcNKpV1"
      },
      "source": [
        "WARNİNG"
      ]
    },
    {
      "cell_type": "code",
      "execution_count": 19,
      "metadata": {
        "colab": {
          "base_uri": "https://localhost:8080/"
        },
        "id": "it3F_CO8KkJ0",
        "outputId": "0ef4a2d5-90b4-48b8-ae6d-204a2893438d"
      },
      "outputs": [
        {
          "output_type": "stream",
          "name": "stdout",
          "text": [
            "\n",
            "MUSCLE v3.8.31 by Robert C. Edgar\n",
            "\n",
            "http://www.drive5.com/muscle\n",
            "This software is donated to the public domain.\n",
            "Please cite: Edgar, R.C. Nucleic Acids Res 32(5), 1792-97.\n",
            "\n",
            "seqs 515 seqs, max length 2829, avg  length 2829\n",
            "\n",
            "******** WARNING ****************\n",
            "\n",
            "You specified the -usetree option.\n",
            "Note that a good evolutionary tree may NOT be a good\n",
            "guide tree for multiple alignment. For more details,\n",
            "please refer to the user guide. To disable this\n",
            "warning, use -usetree_nowarn <treefilename>.\n",
            "\n",
            "\n",
            "*** ERROR ***  User tree must be rooted\n"
          ]
        }
      ],
      "source": [
        "!./muscle3.8.31_i86linux64 -in seqs.fa -out seqs.afa -usetree mytree.phy\n"
      ]
    },
    {
      "cell_type": "markdown",
      "metadata": {
        "id": "HUvunDlriwkf"
      },
      "source": [
        "çözmek için adımlar:"
      ]
    },
    {
      "cell_type": "markdown",
      "source": [
        "seqs.fa dosya alınan adress:https://github.com/gtonkinhill/fastbaps/blob/master/inst/extdata/seqs.fa"
      ],
      "metadata": {
        "id": "ucaJPbrgsqwP"
      }
    },
    {
      "cell_type": "markdown",
      "source": [
        "mytree.php dosyası alınan adress: https://github.com/gtonkinhill/fastbaps/blob/master/inst/extdata/seqs.fa.treefile\n",
        "\n"
      ],
      "metadata": {
        "id": "LgvP7Go0sbI1"
      }
    },
    {
      "cell_type": "code",
      "source": [
        "!./muscle3.8.31_i86linux64 -in seqs.fa -out seqs.afa -usetree mytree.phy\n"
      ],
      "metadata": {
        "colab": {
          "base_uri": "https://localhost:8080/"
        },
        "id": "ZP__7zvAsLZ1",
        "outputId": "8431cdb3-13bb-4f4a-a088-d1431e351551"
      },
      "execution_count": 20,
      "outputs": [
        {
          "output_type": "stream",
          "name": "stdout",
          "text": [
            "\n",
            "MUSCLE v3.8.31 by Robert C. Edgar\n",
            "\n",
            "http://www.drive5.com/muscle\n",
            "This software is donated to the public domain.\n",
            "Please cite: Edgar, R.C. Nucleic Acids Res 32(5), 1792-97.\n",
            "\n",
            "seqs 515 seqs, max length 2829, avg  length 2829\n",
            "00:00:04     20 MB(5%)  Iter   1  100.00%  K-mer dist pass 1\n",
            "00:00:04     20 MB(5%)  Iter   1  100.00%  K-mer dist pass 2\n",
            "00:01:28  884 MB(100%)  Iter   1  100.00%  Align node\n",
            "00:01:28  886 MB(100%)  Iter   1  100.00%  Root alignment\n",
            "00:02:29  887 MB(100%)  Iter   2  100.00%  Refine tree\n",
            "00:02:30  887 MB(100%)  Iter   2  100.00%  Root alignment\n",
            "00:02:30  887 MB(100%)  Iter   2  100.00%  Root alignment\n",
            "00:06:41  887 MB(100%)  Iter   3  100.00%  Refine biparts\n"
          ]
        }
      ]
    },
    {
      "cell_type": "markdown",
      "metadata": {
        "id": "-lAYgpbuKst1"
      },
      "source": [
        "2.10 Profile-profile alignment;"
      ]
    },
    {
      "cell_type": "markdown",
      "source": [
        "one.afa:seqs.afa\n",
        "two.afa:refine.afa\n"
      ],
      "metadata": {
        "id": "hEeQn3WiwhX5"
      }
    },
    {
      "cell_type": "code",
      "execution_count": 23,
      "metadata": {
        "colab": {
          "base_uri": "https://localhost:8080/"
        },
        "id": "fQduROd_Kt3R",
        "outputId": "e5844ab3-b67c-452c-c2fd-d689176a8030"
      },
      "outputs": [
        {
          "output_type": "stream",
          "name": "stdout",
          "text": [
            "\n",
            "MUSCLE v3.8.31 by Robert C. Edgar\n",
            "\n",
            "http://www.drive5.com/muscle\n",
            "This software is donated to the public domain.\n",
            "Please cite: Edgar, R.C. Nucleic Acids Res 32(5), 1792-97.\n",
            "\n",
            "00:00:00     10 MB(2%)  Reading seqs.afa\n",
            "00:00:00     13 MB(3%)  515 seqs 2829 cols\n",
            "00:00:00     13 MB(3%)  Reading two.afa\n",
            "00:00:00     17 MB(4%)  672 seqs 2829 cols\n",
            "00:00:07     19 MB(5%)  Aligning profiles\n",
            "00:00:07     35 MB(9%)  Building output\n",
            "00:00:07     39 MB(9%)  Writing output\n"
          ]
        }
      ],
      "source": [
        "!./muscle3.8.31_i86linux64 -profile -in1 seqs.afa -in2 two.afa -out refined.afa"
      ]
    },
    {
      "cell_type": "markdown",
      "metadata": {
        "id": "Za5PrR_jK1fa"
      },
      "source": [
        "2.11 Adding sequences to an existing alignment"
      ]
    },
    {
      "cell_type": "code",
      "execution_count": 25,
      "metadata": {
        "colab": {
          "base_uri": "https://localhost:8080/"
        },
        "id": "kxZsoac3K1-Z",
        "outputId": "0c653531-9996-4650-d492-463cd9ac8ef8"
      },
      "outputs": [
        {
          "output_type": "stream",
          "name": "stdout",
          "text": [
            "\n",
            "MUSCLE v3.8.31 by Robert C. Edgar\n",
            "\n",
            "http://www.drive5.com/muscle\n",
            "This software is donated to the public domain.\n",
            "Please cite: Edgar, R.C. Nucleic Acids Res 32(5), 1792-97.\n",
            "\n",
            "\n",
            "*** ERROR ***  Cannot open 'existing_aln.afa' errno=2\n",
            "\n"
          ]
        }
      ],
      "source": [
        "!./muscle3.8.31_i86linux64 -profile -in1 existing_aln.afa -in2 new_seq.fa -out combined.afa"
      ]
    },
    {
      "cell_type": "code",
      "execution_count": null,
      "metadata": {
        "colab": {
          "base_uri": "https://localhost:8080/"
        },
        "id": "UpsMYIQhLDaT",
        "outputId": "b48ba8cf-e51f-464c-bdb1-36c97b9b3c9f"
      },
      "outputs": [
        {
          "name": "stdout",
          "output_type": "stream",
          "text": [
            "\n",
            "MUSCLE v3.8.31 by Robert C. Edgar\n",
            "\n",
            "http://www.drive5.com/muscle\n",
            "This software is donated to the public domain.\n",
            "Please cite: Edgar, R.C. Nucleic Acids Res 32(5), 1792-97.\n",
            "\n",
            "\n",
            "*** ERROR ***  Cannot open 'new_seqs.fa' errno=2\n",
            "\n",
            "\n",
            "MUSCLE v3.8.31 by Robert C. Edgar\n",
            "\n",
            "http://www.drive5.com/muscle\n",
            "This software is donated to the public domain.\n",
            "Please cite: Edgar, R.C. Nucleic Acids Res 32(5), 1792-97.\n",
            "\n",
            "\n",
            "*** ERROR ***  Cannot open 'existing_aln.afa' errno=2\n",
            "\n"
          ]
        }
      ],
      "source": [
        "!./muscle3.8.31_i86linux64 -in new_seqs.fa -out new_seqs.afa\n",
        "\n",
        "!./muscle3.8.31_i86linux64 -profile -in1 existing_aln.afa -in2 new_seqs.fa -out combined.afas"
      ]
    },
    {
      "cell_type": "markdown",
      "metadata": {
        "id": "Nal1rZvqLK12"
      },
      "source": [
        "2.12 Sequence clustering"
      ]
    },
    {
      "cell_type": "code",
      "execution_count": null,
      "metadata": {
        "colab": {
          "base_uri": "https://localhost:8080/"
        },
        "id": "WzIQnJFULLW4",
        "outputId": "c71f1d34-fcb0-4d80-99bb-8c055580ff7a"
      },
      "outputs": [
        {
          "name": "stdout",
          "output_type": "stream",
          "text": [
            "Command-line option \"seqs.fa\" must start with '-'\n"
          ]
        }
      ],
      "source": [
        "!./muscle3.8.31_i86linux64 -cluster -in seqs.fa -tree1 tree.phy -maxiters 1"
      ]
    },
    {
      "cell_type": "markdown",
      "metadata": {
        "id": "_HsxR37ZMXl4"
      },
      "source": [
        "2.13 Specifying a substitution matrix"
      ]
    },
    {
      "cell_type": "code",
      "execution_count": null,
      "metadata": {
        "colab": {
          "base_uri": "https://localhost:8080/"
        },
        "id": "ZKZSoAbMMWjf",
        "outputId": "6aac5b0e-e2bb-4477-8426-92be0123ec8d"
      },
      "outputs": [
        {
          "name": "stdout",
          "output_type": "stream",
          "text": [
            "\n",
            "MUSCLE v3.8.31 by Robert C. Edgar\n",
            "\n",
            "http://www.drive5.com/muscle\n",
            "This software is donated to the public domain.\n",
            "Please cite: Edgar, R.C. Nucleic Acids Res 32(5), 1792-97.\n",
            "\n",
            "\n",
            "*** ERROR ***  Cannot open 'seqs.fa' errno=2\n",
            "\n"
          ]
        }
      ],
      "source": [
        "!./muscle3.8.31_i86linux64 -in seqs.fa -out seqs.afa -matrix blosum62 -gapopen -12.0 -gapextend -1.0 -center 0.0"
      ]
    },
    {
      "cell_type": "markdown",
      "metadata": {
        "id": "cuIZWDUgMjEe"
      },
      "source": [
        "2.14 Refining a long alignment"
      ]
    },
    {
      "cell_type": "code",
      "execution_count": null,
      "metadata": {
        "colab": {
          "base_uri": "https://localhost:8080/"
        },
        "id": "0LSHuQQFMjj0",
        "outputId": "bd6d7df1-c2c9-4c55-b863-c7c74f70f347"
      },
      "outputs": [
        {
          "name": "stdout",
          "output_type": "stream",
          "text": [
            "\n",
            "MUSCLE v3.8.31 by Robert C. Edgar\n",
            "\n",
            "http://www.drive5.com/muscle\n",
            "This software is donated to the public domain.\n",
            "Please cite: Edgar, R.C. Nucleic Acids Res 32(5), 1792-97.\n",
            "\n",
            "\n",
            "*** ERROR ***  Cannot open 'input.afa' errno=2\n",
            "\n"
          ]
        }
      ],
      "source": [
        "!./muscle3.8.31_i86linux64 -in input.afa -out output.afa"
      ]
    }
  ],
  "metadata": {
    "colab": {
      "provenance": []
    },
    "kernelspec": {
      "display_name": "Python 3",
      "name": "python3"
    },
    "language_info": {
      "name": "python"
    }
  },
  "nbformat": 4,
  "nbformat_minor": 0
}