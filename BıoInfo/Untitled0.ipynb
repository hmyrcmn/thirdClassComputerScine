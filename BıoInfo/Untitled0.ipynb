{
  "nbformat": 4,
  "nbformat_minor": 0,
  "metadata": {
    "colab": {
      "provenance": []
    },
    "kernelspec": {
      "name": "python3",
      "display_name": "Python 3"
    },
    "language_info": {
      "name": "python"
    }
  },
  "cells": [
    {
      "cell_type": "code",
      "source": [
        "!pip install biopython==1.72"
      ],
      "metadata": {
        "colab": {
          "base_uri": "https://localhost:8080/"
        },
        "id": "QvjYY1slScgL",
        "outputId": "283d538a-1d26-444a-f07b-fbfb1f54e8c5"
      },
      "execution_count": 14,
      "outputs": [
        {
          "output_type": "stream",
          "name": "stdout",
          "text": [
            "Looking in indexes: https://pypi.org/simple, https://us-python.pkg.dev/colab-wheels/public/simple/\n",
            "Requirement already satisfied: biopython==1.72 in /usr/local/lib/python3.9/dist-packages (1.72)\n",
            "Requirement already satisfied: numpy in /usr/local/lib/python3.9/dist-packages (from biopython==1.72) (1.22.4)\n"
          ]
        }
      ]
    },
    {
      "cell_type": "code",
      "source": [
        " from Bio.Blast import NCBIWWW\n",
        " help(NCBIWWW.qblast)"
      ],
      "metadata": {
        "colab": {
          "base_uri": "https://localhost:8080/"
        },
        "id": "2HK6ikIdSbgM",
        "outputId": "cf5f102d-d79b-4b51-8118-5883c3201c7d"
      },
      "execution_count": 15,
      "outputs": [
        {
          "output_type": "stream",
          "name": "stdout",
          "text": [
            "Help on function qblast in module Bio.Blast.NCBIWWW:\n",
            "\n",
            "qblast(program, database, sequence, url_base='https://blast.ncbi.nlm.nih.gov/Blast.cgi', auto_format=None, composition_based_statistics=None, db_genetic_code=None, endpoints=None, entrez_query='(none)', expect=10.0, filter=None, gapcosts=None, genetic_code=None, hitlist_size=50, i_thresh=None, layout=None, lcase_mask=None, matrix_name=None, nucl_penalty=None, nucl_reward=None, other_advanced=None, perc_ident=None, phi_pattern=None, query_file=None, query_believe_defline=None, query_from=None, query_to=None, searchsp_eff=None, service=None, threshold=None, ungapped_alignment=None, word_size=None, alignments=500, alignment_view=None, descriptions=500, entrez_links_new_window=None, expect_low=None, expect_high=None, format_entrez_query=None, format_object=None, format_type='XML', ncbi_gi=None, results_file=None, show_overview=None, megablast=None, template_type=None, template_length=None)\n",
            "    BLAST search using NCBI's QBLAST server or a cloud service provider.\n",
            "    \n",
            "    Supports all parameters of the qblast API for Put and Get.\n",
            "    \n",
            "    Please note that BLAST on the cloud supports the NCBI-BLAST Common\n",
            "    URL API (http://ncbi.github.io/blast-cloud/dev/api.html). To\n",
            "    use this feature, please set url_base to\n",
            "    'http://host.my.cloud.service.provider.com/cgi-bin/blast.cgi' and\n",
            "    format_object='Alignment'. For more details, please see\n",
            "    https://blast.ncbi.nlm.nih.gov/Blast.cgi?PAGE_TYPE=BlastDocs&DOC_TYPE=CloudBlast\n",
            "    \n",
            "    Some useful parameters:\n",
            "    \n",
            "     - program        blastn, blastp, blastx, tblastn, or tblastx (lower case)\n",
            "     - database       Which database to search against (e.g. \"nr\").\n",
            "     - sequence       The sequence to search.\n",
            "     - ncbi_gi        TRUE/FALSE whether to give 'gi' identifier.\n",
            "     - descriptions   Number of descriptions to show.  Def 500.\n",
            "     - alignments     Number of alignments to show.  Def 500.\n",
            "     - expect         An expect value cutoff.  Def 10.0.\n",
            "     - matrix_name    Specify an alt. matrix (PAM30, PAM70, BLOSUM80, BLOSUM45).\n",
            "     - filter         \"none\" turns off filtering.  Default no filtering\n",
            "     - format_type    \"HTML\", \"Text\", \"ASN.1\", or \"XML\".  Def. \"XML\".\n",
            "     - entrez_query   Entrez query to limit Blast search\n",
            "     - hitlist_size   Number of hits to return. Default 50\n",
            "     - megablast      TRUE/FALSE whether to use MEga BLAST algorithm (blastn only)\n",
            "     - service        plain, psi, phi, rpsblast, megablast (lower case)\n",
            "    \n",
            "    This function does no checking of the validity of the parameters\n",
            "    and passes the values to the server as is.  More help is available at:\n",
            "    https://ncbi.github.io/blast-cloud/dev/api.html\n",
            "\n"
          ]
        }
      ]
    },
    {
      "cell_type": "code",
      "source": [
        " from Bio.Blast import NCBIWWW\n",
        " result_handle = NCBIWWW.qblast(\"blastn\", \"nt\", \"8332116\")"
      ],
      "metadata": {
        "id": "E3ERzQTNSb9g"
      },
      "execution_count": null,
      "outputs": []
    },
    {
      "cell_type": "code",
      "source": [
        "from Bio.Blast import NCBIWWW\n",
        "fasta_string = open(\"m_cold.fasta\").read()\n",
        "result_handle = NCBIWWW.qblast(\"blastn\", \"nt\", fasta_string)\n",
        "\n",
        "from Bio.Blast import NCBIWWW\n",
        "from Bio import SeqIO\n",
        "record = SeqIO.read(\"m_cold.fasta\", format=\"fasta\")\n",
        "result_handle = NCBIWWW.qblast(\"blastn\", \"nt\", record.seq)"
      ],
      "metadata": {
        "id": "-kHevqRUS8m5"
      },
      "execution_count": null,
      "outputs": []
    },
    {
      "cell_type": "code",
      "source": [
        "from Bio.Blast import NCBIWWW\n",
        "from Bio import SeqIO\n",
        "record = SeqIO.read(\"m_cold.fasta\", format=\"fasta\")\n",
        "result_handle = NCBIWWW.qblast(\"blastn\", \"nt\", record.seq)"
      ],
      "metadata": {
        "id": "Gq2X-w46TFO3"
      },
      "execution_count": null,
      "outputs": []
    },
    {
      "cell_type": "code",
      "source": [
        "from Bio.Blast import NCBIWWW\n",
        "from Bio import SeqIO\n",
        "record = SeqIO.read(\"m_cold.fasta\", format=\"fasta\")\n",
        "result_handle = NCBIWWW.qblast(\"blastn\", \"nt\", record.format(\"fasta\"))"
      ],
      "metadata": {
        "id": "yzBA_9TNTPw4"
      },
      "execution_count": null,
      "outputs": []
    },
    {
      "cell_type": "code",
      "source": [
        "save_file = open(\"my_blast.xml\", \"w\")\n",
        "save_file.write(result_handle.read())\n",
        "save_file.close()\n",
        "result_handle.close()"
      ],
      "metadata": {
        "id": "9ZQvC4ePTWWS"
      },
      "execution_count": null,
      "outputs": []
    },
    {
      "cell_type": "code",
      "source": [
        "result_handle = open(\"my_blast.xml\")"
      ],
      "metadata": {
        "id": "0wVG5KOjTfdT"
      },
      "execution_count": null,
      "outputs": []
    }
  ]
}