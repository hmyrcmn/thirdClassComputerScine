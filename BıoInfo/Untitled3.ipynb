{
  "nbformat": 4,
  "nbformat_minor": 0,
  "metadata": {
    "colab": {
      "provenance": [],
      "toc_visible": true
    },
    "kernelspec": {
      "name": "python3",
      "display_name": "Python 3"
    },
    "language_info": {
      "name": "python"
    }
  },
  "cells": [
    {
      "cell_type": "code",
      "execution_count": 10,
      "metadata": {
        "colab": {
          "base_uri": "https://localhost:8080/"
        },
        "id": "rIi0yt3pxCcq",
        "outputId": "15408854-ffd2-4fec-823a-f41b2b192211"
      },
      "outputs": [
        {
          "output_type": "stream",
          "name": "stdout",
          "text": [
            "\r0% [Working]\r            \rHit:1 http://archive.ubuntu.com/ubuntu focal InRelease\n",
            "\r0% [Connecting to security.ubuntu.com (185.125.190.36)] [Waiting for headers] [\r                                                                               \rHit:2 https://cloud.r-project.org/bin/linux/ubuntu focal-cran40/ InRelease\n",
            "\r0% [Waiting for headers] [Connecting to security.ubuntu.com (185.125.190.36)] [\r                                                                               \rGet:3 http://archive.ubuntu.com/ubuntu focal-updates InRelease [114 kB]\n",
            "\r0% [3 InRelease 15.6 kB/114 kB 14%] [Connecting to security.ubuntu.com (185.125\r0% [Connecting to security.ubuntu.com (185.125.190.36)] [Connecting to ppa.laun\r                                                                               \rGet:4 http://archive.ubuntu.com/ubuntu focal-backports InRelease [108 kB]\n",
            "\r0% [4 InRelease 11.3 kB/108 kB 10%] [Waiting for headers] [Waiting for headers]\r                                                                               \rHit:5 https://developer.download.nvidia.com/compute/cuda/repos/ubuntu2004/x86_64  InRelease\n",
            "\r0% [4 InRelease 80.8 kB/108 kB 75%] [Waiting for headers] [Waiting for headers]\r                                                                               \r0% [Waiting for headers] [Waiting for headers]\r0% [Waiting for headers] [Waiting for headers]\r                                              \rGet:6 http://security.ubuntu.com/ubuntu focal-security InRelease [114 kB]\n",
            "Get:7 http://ppa.launchpad.net/c2d4u.team/c2d4u4.0+/ubuntu focal InRelease [18.1 kB]\n",
            "Hit:8 http://ppa.launchpad.net/cran/libgit2/ubuntu focal InRelease\n",
            "Get:9 http://archive.ubuntu.com/ubuntu focal-updates/main amd64 Packages [3,025 kB]\n",
            "Hit:10 http://ppa.launchpad.net/deadsnakes/ppa/ubuntu focal InRelease\n",
            "Hit:11 http://ppa.launchpad.net/graphics-drivers/ppa/ubuntu focal InRelease\n",
            "Hit:12 http://ppa.launchpad.net/ubuntugis/ppa/ubuntu focal InRelease\n",
            "Get:13 http://ppa.launchpad.net/c2d4u.team/c2d4u4.0+/ubuntu focal/main Sources [2,402 kB]\n",
            "Get:14 http://ppa.launchpad.net/c2d4u.team/c2d4u4.0+/ubuntu focal/main amd64 Packages [1,138 kB]\n",
            "Fetched 6,919 kB in 2s (3,046 kB/s)\n",
            "Reading package lists... Done\n",
            "Reading package lists... Done\n",
            "Building dependency tree       \n",
            "Reading state information... Done\n",
            "E: Unable to locate package python3.6.5\n",
            "E: Couldn't find any package by glob 'python3.6.5'\n",
            "E: Couldn't find any package by regex 'python3.6.5'\n",
            "Python 3.9.16\n"
          ]
        }
      ],
      "source": [
        "!sudo apt-get update -y\n",
        "!sudo apt-get install python3.6.5\n",
        "!python --version\n"
      ]
    },
    {
      "cell_type": "code",
      "source": [
        "!apt-get install python3.6.5"
      ],
      "metadata": {
        "colab": {
          "base_uri": "https://localhost:8080/"
        },
        "id": "5OvYdwdSz_Mn",
        "outputId": "1815e9cd-a2de-41ca-fd9c-599e5b80d8db"
      },
      "execution_count": 11,
      "outputs": [
        {
          "output_type": "stream",
          "name": "stdout",
          "text": [
            "Reading package lists... Done\n",
            "Building dependency tree       \n",
            "Reading state information... Done\n",
            "E: Unable to locate package python3.6.5\n",
            "E: Couldn't find any package by glob 'python3.6.5'\n",
            "E: Couldn't find any package by regex 'python3.6.5'\n"
          ]
        }
      ]
    },
    {
      "cell_type": "code",
      "source": [
        "pip install biopython==1.72"
      ],
      "metadata": {
        "colab": {
          "base_uri": "https://localhost:8080/"
        },
        "id": "1rAYVlR5x5fV",
        "outputId": "0b554ea1-f000-4d97-b20a-fa4e4564ece2"
      },
      "execution_count": 12,
      "outputs": [
        {
          "output_type": "stream",
          "name": "stdout",
          "text": [
            "Looking in indexes: https://pypi.org/simple, https://us-python.pkg.dev/colab-wheels/public/simple/\n",
            "Requirement already satisfied: biopython==1.72 in /usr/local/lib/python3.9/dist-packages (1.72)\n",
            "Requirement already satisfied: numpy in /usr/local/lib/python3.9/dist-packages (from biopython==1.72) (1.22.4)\n"
          ]
        }
      ]
    },
    {
      "cell_type": "code",
      "source": [
        "import Bio\n",
        "print(Bio.__version__)\n"
      ],
      "metadata": {
        "colab": {
          "base_uri": "https://localhost:8080/"
        },
        "id": "3uaekTz6yQ-h",
        "outputId": "91da7a39-3676-4634-fef0-b443aff2c62f"
      },
      "execution_count": 13,
      "outputs": [
        {
          "output_type": "stream",
          "name": "stdout",
          "text": [
            "1.72\n"
          ]
        }
      ]
    },
    {
      "cell_type": "code",
      "source": [
        "from Bio.SeqIO import parse \n",
        "from Bio.SeqRecord import SeqRecord\n",
        "from Bio.Seq import Seq\n",
        "\n",
        "file = open(\"example.fasta\")\n",
        "records = parse(file, \"fasta\")\n",
        "\n",
        "for record in records:\n",
        "    print(\"Id: %s\" % record.id)\n",
        "    print(\"Name: %s\" % record.name)\n",
        "    print(\"Description: %s\" % record.description) \n",
        "    print(\"Annotations: %s\" % record.annotations)\n",
        "    print(\"Sequence Data: %s\" % record.seq)\n",
        "    print(\"Sequence Alphabet: %s\" % record.seq.alphabet)\n",
        "   \n",
        "   \n",
        "\n"
      ],
      "metadata": {
        "colab": {
          "base_uri": "https://localhost:8080/"
        },
        "id": "MMs9Yty4zJuN",
        "outputId": "73da9749-3648-47f9-c8ed-bfb88355d819"
      },
      "execution_count": 14,
      "outputs": [
        {
          "output_type": "stream",
          "name": "stdout",
          "text": [
            "Id: sp|P25730|FMS1_ECOLI\n",
            "Name: sp|P25730|FMS1_ECOLI\n",
            "Description: sp|P25730|FMS1_ECOLI CS1 fimbrial subunit A precursor (CS1 pilin)\n",
            "Annotations: {}\n",
            "Sequence Data: MKLKKTIGAMALATLFATMGASAVEKTISVTASVDPTVDLLQSDGSALPNSVALTYSPAVNNFEAHTINTVVHTNDSDKGVVVKLSADPVLSNVLNPTLQIPVSVNFAGKPLSTTGITIDSNDLNFASSGVNKVSSTQKLSIHADATRVTGGALTAGQYQGLVSIILTKSTTTTTTTKGT\n",
            "Sequence Alphabet: SingleLetterAlphabet()\n",
            "Id: sp|P15488|FMS3_ECOLI\n",
            "Name: sp|P15488|FMS3_ECOLI\n",
            "Description: sp|P15488|FMS3_ECOLI CS3 fimbrial subunit A precursor (CS3 pilin)\n",
            "Annotations: {}\n",
            "Sequence Data: MLKIKYLLIGLSLSAMSSYSLAAAGPTLTKELALNVLSPAALDATWAPQDNLTLSNTGVSNTLVGVLTLSNTSIDTVSIASTNVSDTSKNGTVTFAHETNNSASFATTISTDNANITLDKNAGNTIVKTTNGSQLPTNLPLKFITTEGNEHLVSGNYRANITITSTIKGGGTKKGTTDKK\n",
            "Sequence Alphabet: SingleLetterAlphabet()\n"
          ]
        }
      ]
    },
    {
      "cell_type": "code",
      "source": [
        " from Bio.Seq import Seq\n",
        "seq=Seq( 'AGCT')\n",
        "\n",
        "print(seq)"
      ],
      "metadata": {
        "id": "M2QFYe9T1wXm",
        "colab": {
          "base_uri": "https://localhost:8080/"
        },
        "outputId": "a384a4c1-5307-42eb-bd96-fc0fa6552b19"
      },
      "execution_count": 15,
      "outputs": [
        {
          "output_type": "stream",
          "name": "stdout",
          "text": [
            "AGCT\n"
          ]
        }
      ]
    },
    {
      "cell_type": "code",
      "source": [
        "from Bio.Seq import Seq\n",
        "myseq =Seq(\"AGCT\")\n",
        "myseq\n",
        "\n",
        "myseq.alphabet\n"
      ],
      "metadata": {
        "id": "oWihQo1i2QiY",
        "colab": {
          "base_uri": "https://localhost:8080/"
        },
        "outputId": "8692d953-498e-4318-e3e4-85215f46781f"
      },
      "execution_count": 16,
      "outputs": [
        {
          "output_type": "execute_result",
          "data": {
            "text/plain": [
              "Alphabet()"
            ]
          },
          "metadata": {},
          "execution_count": 16
        }
      ]
    },
    {
      "cell_type": "code",
      "source": [
        "from Bio.Seq import Seq\n",
        "myseq =Seq(\"AGCT\")\n",
        "myseq\n",
        "\n"
      ],
      "metadata": {
        "colab": {
          "base_uri": "https://localhost:8080/"
        },
        "id": "agF_eSBysaJP",
        "outputId": "ebbf0c83-8e49-4cae-b8c4-bba559fa5af6"
      },
      "execution_count": 17,
      "outputs": [
        {
          "output_type": "execute_result",
          "data": {
            "text/plain": [
              "Seq('AGCT')"
            ]
          },
          "metadata": {},
          "execution_count": 17
        }
      ]
    },
    {
      "cell_type": "code",
      "source": [
        "from Bio.Seq import Seq\n",
        "from Bio.Alphabet import single_letter_alphabet\n",
        "test_seq =Seq( 'AGTACACTGGT' ,single_letter_alphabet)\n",
        "test_seq\n",
        "#seq( ' AGTACACTGGT ,Sing1eLetterA1phabet ( ) )"
      ],
      "metadata": {
        "id": "qv9GarqF2ntz",
        "colab": {
          "base_uri": "https://localhost:8080/"
        },
        "outputId": "6a999b76-305d-483a-8881-10d52790656a"
      },
      "execution_count": 18,
      "outputs": [
        {
          "output_type": "execute_result",
          "data": {
            "text/plain": [
              "Seq('AGTACACTGGT', SingleLetterAlphabet())"
            ]
          },
          "metadata": {},
          "execution_count": 18
        }
      ]
    },
    {
      "cell_type": "code",
      "source": [
        "from Bio.Seq import Seq\n",
        "from Bio.Alphabet import generic_protein\n",
        "test_seq =Seq('AGTACACTGGT', generic_protein)\n",
        "test_seq"
      ],
      "metadata": {
        "id": "0mbvV8Y-3Sv7",
        "colab": {
          "base_uri": "https://localhost:8080/"
        },
        "outputId": "bc86046f-27e1-40e0-d27d-2af3b01c13c8"
      },
      "execution_count": 19,
      "outputs": [
        {
          "output_type": "execute_result",
          "data": {
            "text/plain": [
              "Seq('AGTACACTGGT', ProteinAlphabet())"
            ]
          },
          "metadata": {},
          "execution_count": 19
        }
      ]
    },
    {
      "cell_type": "code",
      "source": [
        "from Bio.Data import IUPACData\n",
        "IUPACData. protein_letters"
      ],
      "metadata": {
        "id": "3hSh1V8H3omq",
        "colab": {
          "base_uri": "https://localhost:8080/",
          "height": 36
        },
        "outputId": "68ba80e5-fe9a-43c7-c39a-3002eb14ce55"
      },
      "execution_count": 20,
      "outputs": [
        {
          "output_type": "execute_result",
          "data": {
            "text/plain": [
              "'ACDEFGHIKLMNPQRSTVWY'"
            ],
            "application/vnd.google.colaboratory.intrinsic+json": {
              "type": "string"
            }
          },
          "metadata": {},
          "execution_count": 20
        }
      ]
    },
    {
      "cell_type": "code",
      "source": [
        "seq_string= Seq( \"AGCTAGCT\" )\n",
        "seq_string[0]"
      ],
      "metadata": {
        "id": "G4kmIlUY3y5z",
        "colab": {
          "base_uri": "https://localhost:8080/",
          "height": 36
        },
        "outputId": "f8496c1c-141a-4513-f5df-5291d9ff4b6e"
      },
      "execution_count": 21,
      "outputs": [
        {
          "output_type": "execute_result",
          "data": {
            "text/plain": [
              "'A'"
            ],
            "application/vnd.google.colaboratory.intrinsic+json": {
              "type": "string"
            }
          },
          "metadata": {},
          "execution_count": 21
        }
      ]
    },
    {
      "cell_type": "code",
      "source": [
        "seq_string[0:2]\n",
        "Seq('AG')"
      ],
      "metadata": {
        "id": "w3YminHs4DPJ",
        "colab": {
          "base_uri": "https://localhost:8080/"
        },
        "outputId": "6e20fe11-29a3-4d01-f96a-9df32c0b8411"
      },
      "execution_count": 22,
      "outputs": [
        {
          "output_type": "execute_result",
          "data": {
            "text/plain": [
              "Seq('AG')"
            ]
          },
          "metadata": {},
          "execution_count": 22
        }
      ]
    },
    {
      "cell_type": "code",
      "source": [
        "seq_string[ : ]\n",
        "Seq( 'AGCTAGCT' )"
      ],
      "metadata": {
        "id": "DpmpOxSu4HFA",
        "colab": {
          "base_uri": "https://localhost:8080/"
        },
        "outputId": "db8f53ae-07aa-4618-ccff-7da876e0ed6f"
      },
      "execution_count": 23,
      "outputs": [
        {
          "output_type": "execute_result",
          "data": {
            "text/plain": [
              "Seq('AGCTAGCT')"
            ]
          },
          "metadata": {},
          "execution_count": 23
        }
      ]
    },
    {
      "cell_type": "code",
      "source": [
        "len(seq_string)"
      ],
      "metadata": {
        "id": "9WEXAr9w4QTJ",
        "colab": {
          "base_uri": "https://localhost:8080/"
        },
        "outputId": "060553dd-c4db-45eb-9a88-2687044a433b"
      },
      "execution_count": 24,
      "outputs": [
        {
          "output_type": "execute_result",
          "data": {
            "text/plain": [
              "8"
            ]
          },
          "metadata": {},
          "execution_count": 24
        }
      ]
    },
    {
      "cell_type": "code",
      "source": [
        "seq_string.count('A')"
      ],
      "metadata": {
        "id": "_gB_r9-14VL9",
        "colab": {
          "base_uri": "https://localhost:8080/"
        },
        "outputId": "137a56bb-742e-425a-a552-ab37b536bf61"
      },
      "execution_count": 25,
      "outputs": [
        {
          "output_type": "execute_result",
          "data": {
            "text/plain": [
              "2"
            ]
          },
          "metadata": {},
          "execution_count": 25
        }
      ]
    },
    {
      "cell_type": "code",
      "source": [
        "from Bio.Seq import Seq\n",
        "from Bio.Alphabet import generic_dna,generic_protein\n",
        "seq1= Seq(\"AGCT\", generic_dna)\n",
        "seq2=Seq( \"TCGA\", generic_dna)\n",
        "\n",
        "seq1+seq2\n",
        "\n"
      ],
      "metadata": {
        "id": "255LuGar4eIS",
        "colab": {
          "base_uri": "https://localhost:8080/"
        },
        "outputId": "13b4a390-7a4b-4955-be1c-c6984618b069"
      },
      "execution_count": 26,
      "outputs": [
        {
          "output_type": "execute_result",
          "data": {
            "text/plain": [
              "Seq('AGCTTCGA', DNAAlphabet())"
            ]
          },
          "metadata": {},
          "execution_count": 26
        }
      ]
    },
    {
      "cell_type": "code",
      "source": [
        "from Bio.Seq import Seq\n",
        "from Bio.Alphabet import generic_dna,generic_protein\n",
        "dna_seq =Seq( 'AGTACACTGGT', generic_dna)\n",
        "\n",
        "protein_seq =Seq('AGUACACUGGU', generic_protein)\n",
        "\n",
        "dna_seq +protein_seq"
      ],
      "metadata": {
        "id": "qzEfYH5W8PnJ",
        "colab": {
          "base_uri": "https://localhost:8080/",
          "height": 335
        },
        "outputId": "d8d834a6-01aa-4b56-ec57-a4b5d71da11a"
      },
      "execution_count": 31,
      "outputs": [
        {
          "output_type": "error",
          "ename": "TypeError",
          "evalue": "ignored",
          "traceback": [
            "\u001b[0;31m---------------------------------------------------------------------------\u001b[0m",
            "\u001b[0;31mTypeError\u001b[0m                                 Traceback (most recent call last)",
            "\u001b[0;32m<ipython-input-31-ca5eb11d3f71>\u001b[0m in \u001b[0;36m<module>\u001b[0;34m\u001b[0m\n\u001b[1;32m      5\u001b[0m \u001b[0mprotein_seq\u001b[0m \u001b[0;34m=\u001b[0m\u001b[0mSeq\u001b[0m\u001b[0;34m(\u001b[0m\u001b[0;34m'AGUACACUGGU'\u001b[0m\u001b[0;34m,\u001b[0m \u001b[0mgeneric_protein\u001b[0m\u001b[0;34m)\u001b[0m\u001b[0;34m\u001b[0m\u001b[0;34m\u001b[0m\u001b[0m\n\u001b[1;32m      6\u001b[0m \u001b[0;34m\u001b[0m\u001b[0m\n\u001b[0;32m----> 7\u001b[0;31m \u001b[0mdna_seq\u001b[0m \u001b[0;34m+\u001b[0m\u001b[0mprotein_seq\u001b[0m\u001b[0;34m\u001b[0m\u001b[0;34m\u001b[0m\u001b[0m\n\u001b[0m",
            "\u001b[0;32m/usr/local/lib/python3.9/dist-packages/Bio/Seq.py\u001b[0m in \u001b[0;36m__add__\u001b[0;34m(self, other)\u001b[0m\n\u001b[1;32m    307\u001b[0m             if not Alphabet._check_type_compatible([self.alphabet,\n\u001b[1;32m    308\u001b[0m                                                     other.alphabet]):\n\u001b[0;32m--> 309\u001b[0;31m                 raise TypeError(\n\u001b[0m\u001b[1;32m    310\u001b[0m                     \"Incompatible alphabets {0!r} and {1!r}\".format(\n\u001b[1;32m    311\u001b[0m                         self.alphabet, other.alphabet))\n",
            "\u001b[0;31mTypeError\u001b[0m: Incompatible alphabets DNAAlphabet() and ProteinAlphabet()"
          ]
        }
      ]
    },
    {
      "cell_type": "code",
      "source": [],
      "metadata": {
        "id": "H8QzG12QuOTd"
      },
      "execution_count": null,
      "outputs": []
    },
    {
      "cell_type": "code",
      "source": [
        "from Bio .Alphabet import generic_dna\n",
        "list =[Seq( \"AGCT\" , generic_dna) , Seq( \"TCGA\" , generic_dna) , Seq( \"AAA\" , generic_dna) ]\n",
        "for s in list:\n",
        "  print(s)\n"
      ],
      "metadata": {
        "colab": {
          "base_uri": "https://localhost:8080/"
        },
        "id": "k22ce-rwt6-D",
        "outputId": "19fe934d-29e2-4357-c466-ad097ef1c40b"
      },
      "execution_count": 33,
      "outputs": [
        {
          "output_type": "stream",
          "name": "stdout",
          "text": [
            "AGCT\n",
            "TCGA\n",
            "AAA\n"
          ]
        }
      ]
    },
    {
      "cell_type": "code",
      "source": [
        "final_seq =Seq(\" \",generic_dna)\n",
        "for s in list:\n",
        "  final_seq = final_seq + s\n",
        "final_seq\n"
      ],
      "metadata": {
        "id": "-QwAaKuW9CYB",
        "colab": {
          "base_uri": "https://localhost:8080/"
        },
        "outputId": "9175e1f3-297a-4b65-8083-e44ef3aae6ff"
      },
      "execution_count": 35,
      "outputs": [
        {
          "output_type": "execute_result",
          "data": {
            "text/plain": [
              "Seq(' AGCTTCGAAAA', DNAAlphabet())"
            ]
          },
          "metadata": {},
          "execution_count": 35
        }
      ]
    },
    {
      "cell_type": "code",
      "source": [
        "from Bio.Alphabet import generic_rna\n",
        "rna=Seq(\"agct\",generic_rna)\n",
        "\n",
        "rna.upper()\n"
      ],
      "metadata": {
        "id": "AvUVCrJE9eX_",
        "colab": {
          "base_uri": "https://localhost:8080/"
        },
        "outputId": "e86ea2eb-db1e-4728-a9a0-151f77bb23fb"
      },
      "execution_count": 36,
      "outputs": [
        {
          "output_type": "execute_result",
          "data": {
            "text/plain": [
              "Seq('AGCT', RNAAlphabet())"
            ]
          },
          "metadata": {},
          "execution_count": 36
        }
      ]
    },
    {
      "cell_type": "code",
      "source": [
        "rna=Seq(\"agct\",generic_rna)\n",
        "'a' in rna\n",
        "\n"
      ],
      "metadata": {
        "id": "P5EmJT_I-ArD",
        "colab": {
          "base_uri": "https://localhost:8080/"
        },
        "outputId": "ad1c0332-8aea-4ec1-fa40-294940142ed0"
      },
      "execution_count": 37,
      "outputs": [
        {
          "output_type": "execute_result",
          "data": {
            "text/plain": [
              "True"
            ]
          },
          "metadata": {},
          "execution_count": 37
        }
      ]
    },
    {
      "cell_type": "code",
      "source": [
        "'A' in rna"
      ],
      "metadata": {
        "id": "szjy-ZcQ-POK",
        "colab": {
          "base_uri": "https://localhost:8080/"
        },
        "outputId": "c9d07ad4-163f-4474-e441-aefe0d7bb540"
      },
      "execution_count": 38,
      "outputs": [
        {
          "output_type": "execute_result",
          "data": {
            "text/plain": [
              "False"
            ]
          },
          "metadata": {},
          "execution_count": 38
        }
      ]
    },
    {
      "cell_type": "code",
      "source": [
        "rna1=Seq(\"agct\",generic_rna)\n",
        "rna is rna1"
      ],
      "metadata": {
        "id": "JhU-eEc5-U6e",
        "colab": {
          "base_uri": "https://localhost:8080/"
        },
        "outputId": "50fc18dd-5a01-4010-b726-51faf86a6ba5"
      },
      "execution_count": 39,
      "outputs": [
        {
          "output_type": "execute_result",
          "data": {
            "text/plain": [
              "False"
            ]
          },
          "metadata": {},
          "execution_count": 39
        }
      ]
    },
    {
      "cell_type": "code",
      "source": [
        "protein_seq =Seq( 'AGUACACUGGU' ,generic_protein)\n",
        "\n",
        "protein_seq.find('G')\n"
      ],
      "metadata": {
        "id": "pupy7gQ7-xOE",
        "colab": {
          "base_uri": "https://localhost:8080/"
        },
        "outputId": "d3d3f5d1-9972-41fb-ff5c-1c4d3e53b819"
      },
      "execution_count": 40,
      "outputs": [
        {
          "output_type": "execute_result",
          "data": {
            "text/plain": [
              "1"
            ]
          },
          "metadata": {},
          "execution_count": 40
        }
      ]
    },
    {
      "cell_type": "code",
      "source": [
        "protein_seq.find('g')"
      ],
      "metadata": {
        "id": "2AP6PEt2_T21",
        "colab": {
          "base_uri": "https://localhost:8080/"
        },
        "outputId": "0fbabdc7-1fae-4d15-e798-4f9d47818046"
      },
      "execution_count": 41,
      "outputs": [
        {
          "output_type": "execute_result",
          "data": {
            "text/plain": [
              "-1"
            ]
          },
          "metadata": {},
          "execution_count": 41
        }
      ]
    },
    {
      "cell_type": "code",
      "source": [
        "protein_seq.find('GG')"
      ],
      "metadata": {
        "id": "jnk_Ytbh_Fk_",
        "colab": {
          "base_uri": "https://localhost:8080/"
        },
        "outputId": "f2890205-732d-400c-9223-299272258472"
      },
      "execution_count": 42,
      "outputs": [
        {
          "output_type": "execute_result",
          "data": {
            "text/plain": [
              "8"
            ]
          },
          "metadata": {},
          "execution_count": 42
        }
      ]
    },
    {
      "cell_type": "code",
      "source": [
        "protein_seq =Seq( 'AGUACACUGGU', generic_protein)\n",
        "\n",
        "protein_seq. split( 'A' )\n"
      ],
      "metadata": {
        "id": "yDOI-Xiv_9c9",
        "colab": {
          "base_uri": "https://localhost:8080/"
        },
        "outputId": "90e5743b-8b39-475f-c871-ed55d4894df4"
      },
      "execution_count": 43,
      "outputs": [
        {
          "output_type": "execute_result",
          "data": {
            "text/plain": [
              "[Seq('', ProteinAlphabet()),\n",
              " Seq('GU', ProteinAlphabet()),\n",
              " Seq('C', ProteinAlphabet()),\n",
              " Seq('CUGGU', ProteinAlphabet())]"
            ]
          },
          "metadata": {},
          "execution_count": 43
        }
      ]
    },
    {
      "cell_type": "code",
      "source": [
        "strip_seq =Seq(\"       AGCT      \")\n",
        "\n",
        "strip_seq\n",
        "\n",
        "\n",
        "\n"
      ],
      "metadata": {
        "id": "ttQRZaaTApeK",
        "colab": {
          "base_uri": "https://localhost:8080/"
        },
        "outputId": "56755665-4ec9-403c-bd4d-1c998191d892"
      },
      "execution_count": 44,
      "outputs": [
        {
          "output_type": "execute_result",
          "data": {
            "text/plain": [
              "Seq('       AGCT      ')"
            ]
          },
          "metadata": {},
          "execution_count": 44
        }
      ]
    },
    {
      "cell_type": "code",
      "source": [
        "strip_seq.strip()"
      ],
      "metadata": {
        "id": "Qonn8oBIBBnC",
        "colab": {
          "base_uri": "https://localhost:8080/"
        },
        "outputId": "c1fdce84-8e28-40fc-8e67-659cd5c5a891"
      },
      "execution_count": 45,
      "outputs": [
        {
          "output_type": "execute_result",
          "data": {
            "text/plain": [
              "Seq('AGCT')"
            ]
          },
          "metadata": {},
          "execution_count": 45
        }
      ]
    }
  ]
}