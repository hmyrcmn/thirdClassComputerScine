{
  "nbformat": 4,
  "nbformat_minor": 0,
  "metadata": {
    "colab": {
      "provenance": []
    },
    "kernelspec": {
      "name": "python3",
      "display_name": "Python 3"
    },
    "language_info": {
      "name": "python"
    }
  },
  "cells": [
    {
      "cell_type": "code",
      "execution_count": null,
      "metadata": {
        "colab": {
          "base_uri": "https://localhost:8080/"
        },
        "id": "rIi0yt3pxCcq",
        "outputId": "3f8f42b4-9784-478e-d772-7a4b841644b4"
      },
      "outputs": [
        {
          "output_type": "stream",
          "name": "stdout",
          "text": [
            "Hit:1 https://developer.download.nvidia.com/compute/cuda/repos/ubuntu2004/x86_64  InRelease\n",
            "Hit:2 https://cloud.r-project.org/bin/linux/ubuntu focal-cran40/ InRelease\n",
            "Hit:3 http://archive.ubuntu.com/ubuntu focal InRelease\n",
            "Hit:4 http://security.ubuntu.com/ubuntu focal-security InRelease\n",
            "Hit:5 http://ppa.launchpad.net/c2d4u.team/c2d4u4.0+/ubuntu focal InRelease\n",
            "Hit:6 http://archive.ubuntu.com/ubuntu focal-updates InRelease\n",
            "Hit:7 http://archive.ubuntu.com/ubuntu focal-backports InRelease\n",
            "Hit:8 http://ppa.launchpad.net/cran/libgit2/ubuntu focal InRelease\n",
            "Hit:9 http://ppa.launchpad.net/deadsnakes/ppa/ubuntu focal InRelease\n",
            "Hit:10 http://ppa.launchpad.net/graphics-drivers/ppa/ubuntu focal InRelease\n",
            "Hit:11 http://ppa.launchpad.net/ubuntugis/ppa/ubuntu focal InRelease\n",
            "Reading package lists... Done\n",
            "Reading package lists... Done\n",
            "Building dependency tree       \n",
            "Reading state information... Done\n",
            "E: Unable to locate package python3.6.5\n",
            "E: Couldn't find any package by glob 'python3.6.5'\n",
            "E: Couldn't find any package by regex 'python3.6.5'\n",
            "Python 3.9.16\n"
          ]
        }
      ],
      "source": [
        "!sudo apt-get update -y\n",
        "!sudo apt-get install python3.6.5\n",
        "!python --version\n"
      ]
    },
    {
      "cell_type": "code",
      "source": [
        "!apt-get install python3.6.5"
      ],
      "metadata": {
        "colab": {
          "base_uri": "https://localhost:8080/"
        },
        "id": "5OvYdwdSz_Mn",
        "outputId": "9a0ebcbc-92d9-46ff-e50e-36ba621a4f93"
      },
      "execution_count": null,
      "outputs": [
        {
          "output_type": "stream",
          "name": "stdout",
          "text": [
            "Reading package lists... Done\n",
            "Building dependency tree       \n",
            "Reading state information... Done\n",
            "E: Unable to locate package python3.6.5\n",
            "E: Couldn't find any package by glob 'python3.6.5'\n",
            "E: Couldn't find any package by regex 'python3.6.5'\n"
          ]
        }
      ]
    },
    {
      "cell_type": "code",
      "source": [
        "!python --version\n"
      ],
      "metadata": {
        "colab": {
          "base_uri": "https://localhost:8080/"
        },
        "id": "_yiUUWpbM4H_",
        "outputId": "92fb9580-dec2-451e-e8e1-571a687e17b5"
      },
      "execution_count": null,
      "outputs": [
        {
          "output_type": "stream",
          "name": "stdout",
          "text": [
            "Python 3.9.16\n"
          ]
        }
      ]
    },
    {
      "cell_type": "code",
      "source": [
        "pip install biopython==1.72"
      ],
      "metadata": {
        "colab": {
          "base_uri": "https://localhost:8080/"
        },
        "id": "1rAYVlR5x5fV",
        "outputId": "dce67eaa-8aa9-4ac4-aaa8-bba6dbeaa3fd"
      },
      "execution_count": null,
      "outputs": [
        {
          "output_type": "stream",
          "name": "stdout",
          "text": [
            "Looking in indexes: https://pypi.org/simple, https://us-python.pkg.dev/colab-wheels/public/simple/\n",
            "Requirement already satisfied: biopython==1.72 in /usr/local/lib/python3.9/dist-packages (1.72)\n",
            "Requirement already satisfied: numpy in /usr/local/lib/python3.9/dist-packages (from biopython==1.72) (1.22.4)\n"
          ]
        }
      ]
    },
    {
      "cell_type": "code",
      "source": [
        "import Bio\n",
        "print(Bio.__version__)\n"
      ],
      "metadata": {
        "colab": {
          "base_uri": "https://localhost:8080/"
        },
        "id": "3uaekTz6yQ-h",
        "outputId": "e5d45ce2-68f8-4849-cd1f-b40ce52e4abe"
      },
      "execution_count": null,
      "outputs": [
        {
          "output_type": "stream",
          "name": "stdout",
          "text": [
            "1.72\n"
          ]
        }
      ]
    },
    {
      "cell_type": "code",
      "source": [
        "from Bio.SeqIO import parse \n",
        "from Bio.SeqRecord import SeqRecord\n",
        "from Bio.Seq import Seq\n",
        "\n",
        "file = open(\"example.fasta\")\n",
        "records = parse(file, \"fasta\")\n",
        "\n",
        "for record in records:\n",
        "    print(\"Id: %s\" % record.id)\n",
        "    print(\"Name: %s\" % record.name)\n",
        "    print(\"Description: %s\" % record.description) \n",
        "    print(\"Annotations: %s\" % record.annotations)\n",
        "    print(\"Sequence Data: %s\" % record.seq)\n",
        "    print(\"Sequence Alphabet: %s\" % record.seq.alphabet)\n",
        "   \n",
        "   \n",
        "\n"
      ],
      "metadata": {
        "colab": {
          "base_uri": "https://localhost:8080/"
        },
        "id": "MMs9Yty4zJuN",
        "outputId": "b5f21a3f-9a97-4155-8b98-f05ca9b9d622"
      },
      "execution_count": null,
      "outputs": [
        {
          "output_type": "stream",
          "name": "stdout",
          "text": [
            "Id: sp|P25730|FMS1_ECOLI\n",
            "Name: sp|P25730|FMS1_ECOLI\n",
            "Description: sp|P25730|FMS1_ECOLI CS1 fimbrial subunit A precursor (CS1 pilin)\n",
            "Annotations: {}\n",
            "Sequence Data: MKLKKTIGAMALATLFATMGASAVEKTISVTASVDPTVDLLQSDGSALPNSVALTYSPAVNNFEAHTINTVVHTNDSDKGVVVKLSADPVLSNVLNPTLQIPVSVNFAGKPLSTTGITIDSNDLNFASSGVNKVSSTQKLSIHADATRVTGGALTAGQYQGLVSIILTKSTTTTTTTKGT\n",
            "Sequence Alphabet: SingleLetterAlphabet()\n",
            "Id: sp|P15488|FMS3_ECOLI\n",
            "Name: sp|P15488|FMS3_ECOLI\n",
            "Description: sp|P15488|FMS3_ECOLI CS3 fimbrial subunit A precursor (CS3 pilin)\n",
            "Annotations: {}\n",
            "Sequence Data: MLKIKYLLIGLSLSAMSSYSLAAAGPTLTKELALNVLSPAALDATWAPQDNLTLSNTGVSNTLVGVLTLSNTSIDTVSIASTNVSDTSKNGTVTFAHETNNSASFATTISTDNANITLDKNAGNTIVKTTNGSQLPTNLPLKFITTEGNEHLVSGNYRANITITSTIKGGGTKKGTTDKK\n",
            "Sequence Alphabet: SingleLetterAlphabet()\n"
          ]
        }
      ]
    },
    {
      "cell_type": "code",
      "source": [
        " from Bio.Seq import Seq\n",
        "seq=Seq( 'AGCT')\n",
        "\n",
        "print(seq)"
      ],
      "metadata": {
        "id": "M2QFYe9T1wXm",
        "colab": {
          "base_uri": "https://localhost:8080/"
        },
        "outputId": "cc9538e1-bf9e-4351-aa40-231688b11cc2"
      },
      "execution_count": null,
      "outputs": [
        {
          "output_type": "stream",
          "name": "stdout",
          "text": [
            "AGCT\n"
          ]
        }
      ]
    },
    {
      "cell_type": "code",
      "source": [
        "from Bio.Seq import Seq\n",
        "myseq =Seq(\"AGCT\")\n",
        "myseq\n",
        "\n",
        "myseq.alphabet\n"
      ],
      "metadata": {
        "id": "oWihQo1i2QiY",
        "colab": {
          "base_uri": "https://localhost:8080/"
        },
        "outputId": "8b417c4c-db49-49ed-e23e-bc0519a0931b"
      },
      "execution_count": null,
      "outputs": [
        {
          "output_type": "execute_result",
          "data": {
            "text/plain": [
              "Alphabet()"
            ]
          },
          "metadata": {},
          "execution_count": 34
        }
      ]
    },
    {
      "cell_type": "code",
      "source": [
        "from Bio.Seq import Seq\n",
        "myseq =Seq(\"AGCT\")\n",
        "myseq\n",
        "\n"
      ],
      "metadata": {
        "id": "agF_eSBysaJP",
        "colab": {
          "base_uri": "https://localhost:8080/"
        },
        "outputId": "b6bfe5f5-f55b-48a2-c1a3-b47b8651d34b"
      },
      "execution_count": null,
      "outputs": [
        {
          "output_type": "execute_result",
          "data": {
            "text/plain": [
              "Seq('AGCT')"
            ]
          },
          "metadata": {},
          "execution_count": 35
        }
      ]
    },
    {
      "cell_type": "code",
      "source": [
        "from Bio.Seq import Seq\n",
        "from Bio.Alphabet import single_letter_alphabet\n",
        "test_seq =Seq( 'AGTACACTGGT' ,single_letter_alphabet)\n",
        "test_seq\n",
        "#seq( ' AGTACACTGGT ,Sing1eLetterA1phabet ( ) )"
      ],
      "metadata": {
        "id": "qv9GarqF2ntz",
        "colab": {
          "base_uri": "https://localhost:8080/"
        },
        "outputId": "1efa48fd-702d-4113-f91a-e52205c36975"
      },
      "execution_count": null,
      "outputs": [
        {
          "output_type": "execute_result",
          "data": {
            "text/plain": [
              "Seq('AGTACACTGGT', SingleLetterAlphabet())"
            ]
          },
          "metadata": {},
          "execution_count": 36
        }
      ]
    },
    {
      "cell_type": "code",
      "source": [
        "from Bio.Seq import Seq\n",
        "from Bio.Alphabet import generic_protein\n",
        "test_seq =Seq('AGTACACTGGT', generic_protein)\n",
        "test_seq"
      ],
      "metadata": {
        "id": "0mbvV8Y-3Sv7",
        "colab": {
          "base_uri": "https://localhost:8080/"
        },
        "outputId": "c5b2b73f-cf55-4c97-ca54-c6e29f5c29ec"
      },
      "execution_count": null,
      "outputs": [
        {
          "output_type": "execute_result",
          "data": {
            "text/plain": [
              "Seq('AGTACACTGGT', ProteinAlphabet())"
            ]
          },
          "metadata": {},
          "execution_count": 37
        }
      ]
    },
    {
      "cell_type": "code",
      "source": [
        "from Bio.Data import IUPACData\n",
        "IUPACData. protein_letters"
      ],
      "metadata": {
        "id": "3hSh1V8H3omq",
        "colab": {
          "base_uri": "https://localhost:8080/",
          "height": 35
        },
        "outputId": "cb2df239-c2fc-49d8-bc87-dc414795ebb3"
      },
      "execution_count": null,
      "outputs": [
        {
          "output_type": "execute_result",
          "data": {
            "text/plain": [
              "'ACDEFGHIKLMNPQRSTVWY'"
            ],
            "application/vnd.google.colaboratory.intrinsic+json": {
              "type": "string"
            }
          },
          "metadata": {},
          "execution_count": 38
        }
      ]
    },
    {
      "cell_type": "code",
      "source": [
        "seq_string= Seq( \"AGCTAGCT\" )\n",
        "seq_string[0]"
      ],
      "metadata": {
        "id": "G4kmIlUY3y5z",
        "colab": {
          "base_uri": "https://localhost:8080/",
          "height": 35
        },
        "outputId": "a8cd9129-3ad1-4657-e055-e10de8fc9566"
      },
      "execution_count": null,
      "outputs": [
        {
          "output_type": "execute_result",
          "data": {
            "text/plain": [
              "'A'"
            ],
            "application/vnd.google.colaboratory.intrinsic+json": {
              "type": "string"
            }
          },
          "metadata": {},
          "execution_count": 39
        }
      ]
    },
    {
      "cell_type": "code",
      "source": [
        "seq_string[0:2]\n"
      ],
      "metadata": {
        "id": "w3YminHs4DPJ",
        "colab": {
          "base_uri": "https://localhost:8080/"
        },
        "outputId": "4dcce5f3-0002-469f-bb19-c04e8d652456"
      },
      "execution_count": null,
      "outputs": [
        {
          "output_type": "execute_result",
          "data": {
            "text/plain": [
              "Seq('AG')"
            ]
          },
          "metadata": {},
          "execution_count": 40
        }
      ]
    },
    {
      "cell_type": "code",
      "source": [
        "seq_string[ : ]\n"
      ],
      "metadata": {
        "id": "DpmpOxSu4HFA",
        "colab": {
          "base_uri": "https://localhost:8080/"
        },
        "outputId": "85ffa93c-7745-44ff-9ec7-591eac95a29e"
      },
      "execution_count": null,
      "outputs": [
        {
          "output_type": "execute_result",
          "data": {
            "text/plain": [
              "Seq('AGCTAGCT')"
            ]
          },
          "metadata": {},
          "execution_count": 41
        }
      ]
    },
    {
      "cell_type": "code",
      "source": [
        "len(seq_string)"
      ],
      "metadata": {
        "id": "9WEXAr9w4QTJ",
        "colab": {
          "base_uri": "https://localhost:8080/"
        },
        "outputId": "eab0b9c3-b1f2-41ca-da53-defb1555e10b"
      },
      "execution_count": null,
      "outputs": [
        {
          "output_type": "execute_result",
          "data": {
            "text/plain": [
              "8"
            ]
          },
          "metadata": {},
          "execution_count": 42
        }
      ]
    },
    {
      "cell_type": "code",
      "source": [
        "seq_string.count('A')"
      ],
      "metadata": {
        "id": "_gB_r9-14VL9",
        "colab": {
          "base_uri": "https://localhost:8080/"
        },
        "outputId": "5d833a5e-36c5-46a3-d839-f7b1c5f4eb6f"
      },
      "execution_count": null,
      "outputs": [
        {
          "output_type": "execute_result",
          "data": {
            "text/plain": [
              "2"
            ]
          },
          "metadata": {},
          "execution_count": 43
        }
      ]
    },
    {
      "cell_type": "code",
      "source": [
        "from Bio.Seq import Seq\n",
        "from Bio.Alphabet import generic_dna,generic_protein\n",
        "seq1= Seq(\"AGCT\", generic_dna)\n",
        "seq2=Seq( \"TCGA\", generic_dna)\n",
        "\n",
        "seq1+seq2\n",
        "\n"
      ],
      "metadata": {
        "id": "255LuGar4eIS",
        "colab": {
          "base_uri": "https://localhost:8080/"
        },
        "outputId": "e46e93b7-05d7-4856-f6fc-fe3a7f57f2ca"
      },
      "execution_count": null,
      "outputs": [
        {
          "output_type": "execute_result",
          "data": {
            "text/plain": [
              "Seq('AGCTTCGA', DNAAlphabet())"
            ]
          },
          "metadata": {},
          "execution_count": 44
        }
      ]
    },
    {
      "cell_type": "code",
      "source": [
        "from Bio.Seq import Seq\n",
        "from Bio.Alphabet import generic_dna,generic_protein\n",
        "dna_seq =Seq( 'AGTACACTGGT', generic_dna)\n",
        "\n",
        "protein_seq =Seq('AGUACACUGGU', generic_protein)\n",
        "dna_seq + protein_seq"
      ],
      "metadata": {
        "id": "qzEfYH5W8PnJ",
        "colab": {
          "base_uri": "https://localhost:8080/",
          "height": 321
        },
        "outputId": "5ae94f12-a55b-44e4-dd4c-ad75d3d12206"
      },
      "execution_count": null,
      "outputs": [
        {
          "output_type": "error",
          "ename": "TypeError",
          "evalue": "ignored",
          "traceback": [
            "\u001b[0;31m---------------------------------------------------------------------------\u001b[0m",
            "\u001b[0;31mTypeError\u001b[0m                                 Traceback (most recent call last)",
            "\u001b[0;32m<ipython-input-45-dcd1945ff8d6>\u001b[0m in \u001b[0;36m<cell line: 6>\u001b[0;34m()\u001b[0m\n\u001b[1;32m      4\u001b[0m \u001b[0;34m\u001b[0m\u001b[0m\n\u001b[1;32m      5\u001b[0m \u001b[0mprotein_seq\u001b[0m \u001b[0;34m=\u001b[0m\u001b[0mSeq\u001b[0m\u001b[0;34m(\u001b[0m\u001b[0;34m'AGUACACUGGU'\u001b[0m\u001b[0;34m,\u001b[0m \u001b[0mgeneric_protein\u001b[0m\u001b[0;34m)\u001b[0m\u001b[0;34m\u001b[0m\u001b[0;34m\u001b[0m\u001b[0m\n\u001b[0;32m----> 6\u001b[0;31m \u001b[0mdna_seq\u001b[0m \u001b[0;34m+\u001b[0m \u001b[0mprotein_seq\u001b[0m\u001b[0;34m\u001b[0m\u001b[0;34m\u001b[0m\u001b[0m\n\u001b[0m",
            "\u001b[0;32m/usr/local/lib/python3.9/dist-packages/Bio/Seq.py\u001b[0m in \u001b[0;36m__add__\u001b[0;34m(self, other)\u001b[0m\n\u001b[1;32m    307\u001b[0m             if not Alphabet._check_type_compatible([self.alphabet,\n\u001b[1;32m    308\u001b[0m                                                     other.alphabet]):\n\u001b[0;32m--> 309\u001b[0;31m                 raise TypeError(\n\u001b[0m\u001b[1;32m    310\u001b[0m                     \"Incompatible alphabets {0!r} and {1!r}\".format(\n\u001b[1;32m    311\u001b[0m                         self.alphabet, other.alphabet))\n",
            "\u001b[0;31mTypeError\u001b[0m: Incompatible alphabets DNAAlphabet() and ProteinAlphabet()"
          ]
        }
      ]
    },
    {
      "cell_type": "code",
      "source": [
        "from Bio .Alphabet import generic_dna\n",
        "list =[Seq( \"AGCT\" , generic_dna) , Seq( \"TCGA\" , generic_dna) , Seq( \"AAA\" , generic_dna) ]\n",
        "for s in list:\n",
        "  print(s)\n"
      ],
      "metadata": {
        "id": "k22ce-rwt6-D"
      },
      "execution_count": null,
      "outputs": []
    },
    {
      "cell_type": "code",
      "source": [
        "final_seq =Seq(\" \",generic_dna)\n",
        "for s in list:\n",
        "  final_seq = final_seq + s\n",
        "final_seq\n"
      ],
      "metadata": {
        "id": "-QwAaKuW9CYB"
      },
      "execution_count": null,
      "outputs": []
    },
    {
      "cell_type": "code",
      "source": [
        "from Bio.Alphabet import generic_rna\n",
        "rna=Seq(\"agct\",generic_rna)\n",
        "\n",
        "rna.upper()\n"
      ],
      "metadata": {
        "id": "AvUVCrJE9eX_"
      },
      "execution_count": null,
      "outputs": []
    },
    {
      "cell_type": "code",
      "source": [
        "rna=Seq(\"agct\",generic_rna)\n",
        "'a' in rna\n",
        "\n"
      ],
      "metadata": {
        "id": "P5EmJT_I-ArD"
      },
      "execution_count": null,
      "outputs": []
    },
    {
      "cell_type": "code",
      "source": [
        "'A' in rna"
      ],
      "metadata": {
        "id": "szjy-ZcQ-POK"
      },
      "execution_count": null,
      "outputs": []
    },
    {
      "cell_type": "code",
      "source": [
        "rna1=Seq(\"agct\",generic_rna)\n",
        "rna is rna1"
      ],
      "metadata": {
        "id": "JhU-eEc5-U6e"
      },
      "execution_count": null,
      "outputs": []
    },
    {
      "cell_type": "code",
      "source": [
        "protein_seq =Seq( 'AGUACACUGGU' ,generic_protein)\n",
        "\n",
        "protein_seq.find('G')\n"
      ],
      "metadata": {
        "id": "pupy7gQ7-xOE"
      },
      "execution_count": null,
      "outputs": []
    },
    {
      "cell_type": "code",
      "source": [
        "protein_seq.find('g')"
      ],
      "metadata": {
        "id": "2AP6PEt2_T21"
      },
      "execution_count": null,
      "outputs": []
    },
    {
      "cell_type": "code",
      "source": [
        "protein_seq.find('GG')"
      ],
      "metadata": {
        "id": "jnk_Ytbh_Fk_"
      },
      "execution_count": null,
      "outputs": []
    },
    {
      "cell_type": "code",
      "source": [
        "protein_seq =Seq( 'AGUACACUGGU', generic_protein)\n",
        "\n",
        "protein_seq. split( 'A' )\n"
      ],
      "metadata": {
        "id": "yDOI-Xiv_9c9"
      },
      "execution_count": null,
      "outputs": []
    },
    {
      "cell_type": "code",
      "source": [
        "strip_seq =Seq(\"       AGCT      \")\n",
        "\n",
        "strip_seq\n",
        "\n",
        "\n",
        "\n"
      ],
      "metadata": {
        "id": "ttQRZaaTApeK"
      },
      "execution_count": null,
      "outputs": []
    },
    {
      "cell_type": "code",
      "source": [
        "strip_seq.strip()"
      ],
      "metadata": {
        "id": "Qonn8oBIBBnC"
      },
      "execution_count": null,
      "outputs": []
    },
    {
      "cell_type": "code",
      "source": [
        "from Bio import pairwise2"
      ],
      "metadata": {
        "id": "Ay-RIXimHaqe"
      },
      "execution_count": null,
      "outputs": []
    }
  ]
}