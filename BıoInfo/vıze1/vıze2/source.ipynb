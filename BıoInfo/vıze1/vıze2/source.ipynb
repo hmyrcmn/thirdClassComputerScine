{
  "nbformat": 4,
  "nbformat_minor": 0,
  "metadata": {
    "colab": {
      "provenance": []
    },
    "kernelspec": {
      "name": "python3",
      "display_name": "Python 3"
    },
    "language_info": {
      "name": "python"
    }
  },
  "cells": [
    {
      "cell_type": "code",
      "execution_count": 1,
      "metadata": {
        "colab": {
          "base_uri": "https://localhost:8080/"
        },
        "id": "-QhjSPLxHrbp",
        "outputId": "4d12cdfa-ca2e-4c95-a2a6-4bbde08d1d63"
      },
      "outputs": [
        {
          "output_type": "stream",
          "name": "stdout",
          "text": [
            "Looking in indexes: https://pypi.org/simple, https://us-python.pkg.dev/colab-wheels/public/simple/\n",
            "Collecting Biopython==1.78\n",
            "  Downloading biopython-1.78-cp39-cp39-manylinux1_x86_64.whl (2.3 MB)\n",
            "\u001b[2K     \u001b[90m━━━━━━━━━━━━━━━━━━━━━━━━━━━━━━━━━━━━━━━━\u001b[0m \u001b[32m2.3/2.3 MB\u001b[0m \u001b[31m41.4 MB/s\u001b[0m eta \u001b[36m0:00:00\u001b[0m\n",
            "\u001b[?25hRequirement already satisfied: numpy in /usr/local/lib/python3.9/dist-packages (from Biopython==1.78) (1.22.4)\n",
            "Installing collected packages: Biopython\n",
            "Successfully installed Biopython-1.78\n"
          ]
        }
      ],
      "source": [
        "!pip install Biopython==1.78\n"
      ]
    },
    {
      "cell_type": "code",
      "source": [
        "from Bio import pairwise2\n",
        "alignments = pairwise2.align.globalxx(\"ACCGT\", \"ACG\")"
      ],
      "metadata": {
        "id": "UdRIxcwqH6ab"
      },
      "execution_count": 2,
      "outputs": []
    },
    {
      "cell_type": "code",
      "source": [
        "from Bio.pairwise2 import format_alignment\n",
        "print(format_alignment(*alignments[0]))"
      ],
      "metadata": {
        "colab": {
          "base_uri": "https://localhost:8080/"
        },
        "id": "7YSUmPvYIE7c",
        "outputId": "f59aa53c-f044-40b8-db7e-3180d6292203"
      },
      "execution_count": 3,
      "outputs": [
        {
          "output_type": "stream",
          "name": "stdout",
          "text": [
            "ACCGT\n",
            "| || \n",
            "A-CG-\n",
            "  Score=3\n",
            "\n"
          ]
        }
      ]
    },
    {
      "cell_type": "code",
      "source": [
        "for a in pairwise2.align.globalxx(\"ACCGT\", \"ACG\"):\n",
        "    print(format_alignment(*a))"
      ],
      "metadata": {
        "colab": {
          "base_uri": "https://localhost:8080/"
        },
        "id": "XSRz2EUlILN9",
        "outputId": "1273dd29-21ec-42fb-f48c-3a5001ba3eb3"
      },
      "execution_count": 4,
      "outputs": [
        {
          "output_type": "stream",
          "name": "stdout",
          "text": [
            "ACCGT\n",
            "| || \n",
            "A-CG-\n",
            "  Score=3\n",
            "\n",
            "ACCGT\n",
            "|| | \n",
            "AC-G-\n",
            "  Score=3\n",
            "\n"
          ]
        }
      ]
    },
    {
      "cell_type": "code",
      "source": [
        "for a in pairwise2.align.localxx(\"ACCGT\", \"ACG\"):\n",
        "    print(format_alignment(*a))"
      ],
      "metadata": {
        "colab": {
          "base_uri": "https://localhost:8080/"
        },
        "id": "pnH-2XyrIOmY",
        "outputId": "b06301cc-1727-4308-f8c4-0515aaf1161a"
      },
      "execution_count": 5,
      "outputs": [
        {
          "output_type": "stream",
          "name": "stdout",
          "text": [
            "1 ACCG\n",
            "  | ||\n",
            "1 A-CG\n",
            "  Score=3\n",
            "\n",
            "1 ACCG\n",
            "  || |\n",
            "1 AC-G\n",
            "  Score=3\n",
            "\n"
          ]
        }
      ]
    },
    {
      "cell_type": "code",
      "source": [
        "\n",
        "\n",
        "for a in pairwise2.align.localxx(\"ACCGT\", \"ACG\"):\n",
        "    print(format_alignment(*a, full_sequences=True))\n",
        "\n"
      ],
      "metadata": {
        "colab": {
          "base_uri": "https://localhost:8080/"
        },
        "id": "b6UaPC26IQ-x",
        "outputId": "b296f519-9caf-4e50-8228-cae5fc5450c9"
      },
      "execution_count": 6,
      "outputs": [
        {
          "output_type": "stream",
          "name": "stdout",
          "text": [
            "ACCGT\n",
            "| || \n",
            "A-CG-\n",
            "  Score=3\n",
            "\n",
            "ACCGT\n",
            "|| | \n",
            "AC-G-\n",
            "  Score=3\n",
            "\n"
          ]
        }
      ]
    },
    {
      "cell_type": "code",
      "source": [
        "for a in pairwise2.align.globalmx(\"ACCGT\", \"ACG\", 2, -1):\n",
        "    print(format_alignment(*a))"
      ],
      "metadata": {
        "colab": {
          "base_uri": "https://localhost:8080/"
        },
        "id": "mmCEQ8QRITQl",
        "outputId": "63db2276-ea0b-49ba-e60f-ed8ce6d937b6"
      },
      "execution_count": 7,
      "outputs": [
        {
          "output_type": "stream",
          "name": "stdout",
          "text": [
            "ACCGT\n",
            "| || \n",
            "A-CG-\n",
            "  Score=6\n",
            "\n",
            "ACCGT\n",
            "|| | \n",
            "AC-G-\n",
            "  Score=6\n",
            "\n"
          ]
        }
      ]
    },
    {
      "cell_type": "code",
      "source": [
        "for a in pairwise2.align.globalms(\"ACCGT\", \"ACG\", 2, -1, -.5, -.1):\n",
        "    print(format_alignment(*a))"
      ],
      "metadata": {
        "colab": {
          "base_uri": "https://localhost:8080/"
        },
        "id": "etXKecbzIV8U",
        "outputId": "46276f8a-c730-4a27-b745-701ff66a7018"
      },
      "execution_count": 8,
      "outputs": [
        {
          "output_type": "stream",
          "name": "stdout",
          "text": [
            "ACCGT\n",
            "| || \n",
            "A-CG-\n",
            "  Score=5\n",
            "\n",
            "ACCGT\n",
            "|| | \n",
            "AC-G-\n",
            "  Score=5\n",
            "\n"
          ]
        }
      ]
    },
    {
      "cell_type": "code",
      "source": [
        "for a in pairwise2.align.globalms(\"A\", \"T\", 5, -4, -1, -.1):\n",
        "    print(format_alignment(*a))"
      ],
      "metadata": {
        "colab": {
          "base_uri": "https://localhost:8080/"
        },
        "id": "hhoBzF6sIYkU",
        "outputId": "f08583c8-2d61-4d6b-f20d-d148f38bc9ea"
      },
      "execution_count": 9,
      "outputs": [
        {
          "output_type": "stream",
          "name": "stdout",
          "text": [
            "A-\n",
            "  \n",
            "-T\n",
            "  Score=-2\n",
            "\n"
          ]
        }
      ]
    },
    {
      "cell_type": "code",
      "source": [
        "for a in pairwise2.align.globalms(\"A\", \"T\", 5, -4, -3, -.1):\n",
        "    print(format_alignment(*a))"
      ],
      "metadata": {
        "colab": {
          "base_uri": "https://localhost:8080/"
        },
        "id": "MIEwG0FnIaen",
        "outputId": "fb5900ce-11f4-4f4c-8d14-6fd06a0cd574"
      },
      "execution_count": 10,
      "outputs": [
        {
          "output_type": "stream",
          "name": "stdout",
          "text": [
            "A\n",
            ".\n",
            "T\n",
            "  Score=-4\n",
            "\n"
          ]
        }
      ]
    },
    {
      "cell_type": "code",
      "source": [
        "\n",
        "\n",
        "from Bio.SubsMat import MatrixInfo as matlist\n",
        "matrix = matlist.blosum62\n",
        "\n",
        "for a in pairwise2.align.globaldx(\"KEVLA\", \"EVL\", matrix):\n",
        "    print(format_alignment(*a))\n"
      ],
      "metadata": {
        "colab": {
          "base_uri": "https://localhost:8080/"
        },
        "id": "EHmOSUG8Id7f",
        "outputId": "d9c40336-f5d3-4b2b-fa59-11af766c0aee"
      },
      "execution_count": 11,
      "outputs": [
        {
          "output_type": "stream",
          "name": "stdout",
          "text": [
            "KEVLA\n",
            " ||| \n",
            "-EVL-\n",
            "  Score=13\n",
            "\n"
          ]
        },
        {
          "output_type": "stream",
          "name": "stderr",
          "text": [
            "/usr/local/lib/python3.9/dist-packages/Bio/SubsMat/__init__.py:126: BiopythonDeprecationWarning: Bio.SubsMat has been deprecated, and we intend to remove it in a future release of Biopython. As an alternative, please consider using Bio.Align.substitution_matrices as a replacement, and contact the Biopython developers if you still need the Bio.SubsMat module.\n",
            "  warnings.warn(\n"
          ]
        }
      ]
    },
    {
      "cell_type": "code",
      "source": [
        "from math import log\n",
        "def gap_function(x, y):  # x is gap position in seq, y is gap length\n",
        "    if y == 0:  # No gap\n",
        "        return 0\n",
        "    elif y == 1:  # Gap open penalty\n",
        "        return -2\n",
        "    return - (2 + y/4.0 + log(y)/2.0)\n",
        "  \n",
        "alignment = pairwise2.align.globalmc(\"ACCCCCGT\", \"ACG\", 5, -4, gap_function, gap_function)"
      ],
      "metadata": {
        "id": "o2_S5KNzIgSx"
      },
      "execution_count": 12,
      "outputs": []
    },
    {
      "cell_type": "code",
      "source": [],
      "metadata": {
        "id": "mFOHLxAOKreA"
      },
      "execution_count": 12,
      "outputs": []
    }
  ]
}